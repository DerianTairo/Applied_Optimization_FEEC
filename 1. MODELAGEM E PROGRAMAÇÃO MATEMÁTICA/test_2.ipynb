{
 "cells": [
  {
   "cell_type": "code",
   "execution_count": 218,
   "metadata": {},
   "outputs": [],
   "source": [
    "from pyomo.environ import *"
   ]
  },
  {
   "cell_type": "code",
   "execution_count": 219,
   "metadata": {},
   "outputs": [],
   "source": [
    "model = ConcreteModel()"
   ]
  },
  {
   "cell_type": "code",
   "execution_count": 220,
   "metadata": {},
   "outputs": [],
   "source": [
    "S = ['Gary', 'Cleveland', 'Pittsburg']\n",
    "F = ['Farmington', 'Detroit', 'Lansing', 'Winsor', 'St. Louis', 'Fremont', 'Lafayette']\n",
    "c = {('Gary', 'Farmington'): 39, ('Gary', 'Detroit'): 14, ('Gary', 'Lansing'): 11, ('Gary', 'Winsor'): 14, ('Gary', 'St. Louis'): 16, ('Gary', 'Fremont'): 82, ('Gary', 'Lafayette'): 8, ('Cleveland', 'Farmington'): 27, ('Cleveland', 'Detroit'): 9, ('Cleveland', 'Lansing'): 12, ('Cleveland', 'Winsor'): 9, ('Cleveland', 'St. Louis'): 26, ('Cleveland', 'Fremont'): 95, ('Cleveland', 'Lafayette'): 17, ('Pittsburg', 'Farmington'): 24, ('Pittsburg', 'Detroit'): 14, ('Pittsburg', 'Lansing'): 17, ('Pittsburg', 'Winsor'): 13, ('Pittsburg', 'St. Louis'): 28, ('Pittsburg', 'Fremont'): 99, ('Pittsburg', 'Lafayette'): 20}\n",
    "p = {'Gary': 1400, 'Cleveland': 2600, 'Pittsburg': 2900}\n",
    "d = {'Farmington': 900, 'Detroit': 1200, 'Lansing': 600, 'Winsor': 400, 'St. Louis': 1700, 'Fremont': 1100, 'Lafayette': 1000}\n"
   ]
  },
  {
   "cell_type": "code",
   "execution_count": 221,
   "metadata": {},
   "outputs": [
    {
     "name": "stdout",
     "output_type": "stream",
     "text": [
      "3 Set Declarations\n",
      "    x_index : Size=1, Index=None, Ordered=True\n",
      "        Key  : Dimen : Domain              : Size : Members\n",
      "        None :     2 : x_index_0*x_index_1 :   21 : {('Gary', 'Farmington'), ('Gary', 'Detroit'), ('Gary', 'Lansing'), ('Gary', 'Winsor'), ('Gary', 'St. Louis'), ('Gary', 'Fremont'), ('Gary', 'Lafayette'), ('Cleveland', 'Farmington'), ('Cleveland', 'Detroit'), ('Cleveland', 'Lansing'), ('Cleveland', 'Winsor'), ('Cleveland', 'St. Louis'), ('Cleveland', 'Fremont'), ('Cleveland', 'Lafayette'), ('Pittsburg', 'Farmington'), ('Pittsburg', 'Detroit'), ('Pittsburg', 'Lansing'), ('Pittsburg', 'Winsor'), ('Pittsburg', 'St. Louis'), ('Pittsburg', 'Fremont'), ('Pittsburg', 'Lafayette')}\n",
      "    x_index_0 : Size=1, Index=None, Ordered=Insertion\n",
      "        Key  : Dimen : Domain : Size : Members\n",
      "        None :     1 :    Any :    3 : {'Gary', 'Cleveland', 'Pittsburg'}\n",
      "    x_index_1 : Size=1, Index=None, Ordered=Insertion\n",
      "        Key  : Dimen : Domain : Size : Members\n",
      "        None :     1 :    Any :    7 : {'Farmington', 'Detroit', 'Lansing', 'Winsor', 'St. Louis', 'Fremont', 'Lafayette'}\n",
      "\n",
      "1 Var Declarations\n",
      "    x : Size=21, Index=x_index\n",
      "        Key                         : Lower : Value : Upper : Fixed : Stale : Domain\n",
      "           ('Cleveland', 'Detroit') :     0 :  None :  None : False :  True : NonNegativeReals\n",
      "        ('Cleveland', 'Farmington') :     0 :  None :  None : False :  True : NonNegativeReals\n",
      "           ('Cleveland', 'Fremont') :     0 :  None :  None : False :  True : NonNegativeReals\n",
      "         ('Cleveland', 'Lafayette') :     0 :  None :  None : False :  True : NonNegativeReals\n",
      "           ('Cleveland', 'Lansing') :     0 :  None :  None : False :  True : NonNegativeReals\n",
      "         ('Cleveland', 'St. Louis') :     0 :  None :  None : False :  True : NonNegativeReals\n",
      "            ('Cleveland', 'Winsor') :     0 :  None :  None : False :  True : NonNegativeReals\n",
      "                ('Gary', 'Detroit') :     0 :  None :  None : False :  True : NonNegativeReals\n",
      "             ('Gary', 'Farmington') :     0 :  None :  None : False :  True : NonNegativeReals\n",
      "                ('Gary', 'Fremont') :     0 :  None :  None : False :  True : NonNegativeReals\n",
      "              ('Gary', 'Lafayette') :     0 :  None :  None : False :  True : NonNegativeReals\n",
      "                ('Gary', 'Lansing') :     0 :  None :  None : False :  True : NonNegativeReals\n",
      "              ('Gary', 'St. Louis') :     0 :  None :  None : False :  True : NonNegativeReals\n",
      "                 ('Gary', 'Winsor') :     0 :  None :  None : False :  True : NonNegativeReals\n",
      "           ('Pittsburg', 'Detroit') :     0 :  None :  None : False :  True : NonNegativeReals\n",
      "        ('Pittsburg', 'Farmington') :     0 :  None :  None : False :  True : NonNegativeReals\n",
      "           ('Pittsburg', 'Fremont') :     0 :  None :  None : False :  True : NonNegativeReals\n",
      "         ('Pittsburg', 'Lafayette') :     0 :  None :  None : False :  True : NonNegativeReals\n",
      "           ('Pittsburg', 'Lansing') :     0 :  None :  None : False :  True : NonNegativeReals\n",
      "         ('Pittsburg', 'St. Louis') :     0 :  None :  None : False :  True : NonNegativeReals\n",
      "            ('Pittsburg', 'Winsor') :     0 :  None :  None : False :  True : NonNegativeReals\n",
      "\n",
      "4 Declarations: x_index_0 x_index_1 x_index x\n"
     ]
    }
   ],
   "source": [
    "model.x = Var(S,F, domain = NonNegativeReals)\n",
    "#model.y = Var(p, within = NonNegativeReals)\n",
    "#model.z = Var(d, within = NonNegativeReals)\n",
    "model.pprint()"
   ]
  },
  {
   "cell_type": "code",
   "execution_count": 222,
   "metadata": {},
   "outputs": [],
   "source": [
    "def obj_rule(m):\n",
    "    return sum(c[s,f]*m.x[s,f] for s in S for f in F)\n",
    "model.obj = Objective(rule = obj_rule, sense = minimize)"
   ]
  },
  {
   "cell_type": "code",
   "execution_count": 223,
   "metadata": {},
   "outputs": [
    {
     "name": "stdout",
     "output_type": "stream",
     "text": [
      "3 Set Declarations\n",
      "    x_index : Size=1, Index=None, Ordered=True\n",
      "        Key  : Dimen : Domain              : Size : Members\n",
      "        None :     2 : x_index_0*x_index_1 :   21 : {('Gary', 'Farmington'), ('Gary', 'Detroit'), ('Gary', 'Lansing'), ('Gary', 'Winsor'), ('Gary', 'St. Louis'), ('Gary', 'Fremont'), ('Gary', 'Lafayette'), ('Cleveland', 'Farmington'), ('Cleveland', 'Detroit'), ('Cleveland', 'Lansing'), ('Cleveland', 'Winsor'), ('Cleveland', 'St. Louis'), ('Cleveland', 'Fremont'), ('Cleveland', 'Lafayette'), ('Pittsburg', 'Farmington'), ('Pittsburg', 'Detroit'), ('Pittsburg', 'Lansing'), ('Pittsburg', 'Winsor'), ('Pittsburg', 'St. Louis'), ('Pittsburg', 'Fremont'), ('Pittsburg', 'Lafayette')}\n",
      "    x_index_0 : Size=1, Index=None, Ordered=Insertion\n",
      "        Key  : Dimen : Domain : Size : Members\n",
      "        None :     1 :    Any :    3 : {'Gary', 'Cleveland', 'Pittsburg'}\n",
      "    x_index_1 : Size=1, Index=None, Ordered=Insertion\n",
      "        Key  : Dimen : Domain : Size : Members\n",
      "        None :     1 :    Any :    7 : {'Farmington', 'Detroit', 'Lansing', 'Winsor', 'St. Louis', 'Fremont', 'Lafayette'}\n",
      "\n",
      "1 Var Declarations\n",
      "    x : Size=21, Index=x_index\n",
      "        Key                         : Lower : Value : Upper : Fixed : Stale : Domain\n",
      "           ('Cleveland', 'Detroit') :     0 :  None :  None : False :  True : NonNegativeReals\n",
      "        ('Cleveland', 'Farmington') :     0 :  None :  None : False :  True : NonNegativeReals\n",
      "           ('Cleveland', 'Fremont') :     0 :  None :  None : False :  True : NonNegativeReals\n",
      "         ('Cleveland', 'Lafayette') :     0 :  None :  None : False :  True : NonNegativeReals\n",
      "           ('Cleveland', 'Lansing') :     0 :  None :  None : False :  True : NonNegativeReals\n",
      "         ('Cleveland', 'St. Louis') :     0 :  None :  None : False :  True : NonNegativeReals\n",
      "            ('Cleveland', 'Winsor') :     0 :  None :  None : False :  True : NonNegativeReals\n",
      "                ('Gary', 'Detroit') :     0 :  None :  None : False :  True : NonNegativeReals\n",
      "             ('Gary', 'Farmington') :     0 :  None :  None : False :  True : NonNegativeReals\n",
      "                ('Gary', 'Fremont') :     0 :  None :  None : False :  True : NonNegativeReals\n",
      "              ('Gary', 'Lafayette') :     0 :  None :  None : False :  True : NonNegativeReals\n",
      "                ('Gary', 'Lansing') :     0 :  None :  None : False :  True : NonNegativeReals\n",
      "              ('Gary', 'St. Louis') :     0 :  None :  None : False :  True : NonNegativeReals\n",
      "                 ('Gary', 'Winsor') :     0 :  None :  None : False :  True : NonNegativeReals\n",
      "           ('Pittsburg', 'Detroit') :     0 :  None :  None : False :  True : NonNegativeReals\n",
      "        ('Pittsburg', 'Farmington') :     0 :  None :  None : False :  True : NonNegativeReals\n",
      "           ('Pittsburg', 'Fremont') :     0 :  None :  None : False :  True : NonNegativeReals\n",
      "         ('Pittsburg', 'Lafayette') :     0 :  None :  None : False :  True : NonNegativeReals\n",
      "           ('Pittsburg', 'Lansing') :     0 :  None :  None : False :  True : NonNegativeReals\n",
      "         ('Pittsburg', 'St. Louis') :     0 :  None :  None : False :  True : NonNegativeReals\n",
      "            ('Pittsburg', 'Winsor') :     0 :  None :  None : False :  True : NonNegativeReals\n",
      "\n",
      "1 Objective Declarations\n",
      "    obj : Size=1, Index=None, Active=True\n",
      "        Key  : Active : Sense    : Expression\n",
      "        None :   True : minimize : 39*x[Gary,Farmington] + 14*x[Gary,Detroit] + 11*x[Gary,Lansing] + 14*x[Gary,Winsor] + 16*x[Gary,'St. Louis'] + 82*x[Gary,Fremont] + 8*x[Gary,Lafayette] + 27*x[Cleveland,Farmington] + 9*x[Cleveland,Detroit] + 12*x[Cleveland,Lansing] + 9*x[Cleveland,Winsor] + 26*x[Cleveland,'St. Louis'] + 95*x[Cleveland,Fremont] + 17*x[Cleveland,Lafayette] + 24*x[Pittsburg,Farmington] + 14*x[Pittsburg,Detroit] + 17*x[Pittsburg,Lansing] + 13*x[Pittsburg,Winsor] + 28*x[Pittsburg,'St. Louis'] + 99*x[Pittsburg,Fremont] + 20*x[Pittsburg,Lafayette]\n",
      "\n",
      "5 Declarations: x_index_0 x_index_1 x_index x obj\n"
     ]
    }
   ],
   "source": [
    "model.pprint()"
   ]
  },
  {
   "cell_type": "code",
   "execution_count": 224,
   "metadata": {},
   "outputs": [],
   "source": [
    "def pro_cost_rule(m,s):\n",
    "    return sum(m.x[s,f] for f in F) == p[s]\n",
    "model.restricao_1 = Constraint(S, rule=pro_cost_rule)"
   ]
  },
  {
   "cell_type": "code",
   "execution_count": 225,
   "metadata": {},
   "outputs": [],
   "source": [
    "def dem_cost_rule(m,f):\n",
    "    return sum(m.x[s,f] for s in S) == d[f]\n",
    "model.restricao_2 = Constraint(F, rule=dem_cost_rule)"
   ]
  },
  {
   "cell_type": "code",
   "execution_count": 226,
   "metadata": {},
   "outputs": [
    {
     "name": "stdout",
     "output_type": "stream",
     "text": [
      "5 Set Declarations\n",
      "    restricao_1_index : Size=1, Index=None, Ordered=Insertion\n",
      "        Key  : Dimen : Domain : Size : Members\n",
      "        None :     1 :    Any :    3 : {'Gary', 'Cleveland', 'Pittsburg'}\n",
      "    restricao_2_index : Size=1, Index=None, Ordered=Insertion\n",
      "        Key  : Dimen : Domain : Size : Members\n",
      "        None :     1 :    Any :    7 : {'Farmington', 'Detroit', 'Lansing', 'Winsor', 'St. Louis', 'Fremont', 'Lafayette'}\n",
      "    x_index : Size=1, Index=None, Ordered=True\n",
      "        Key  : Dimen : Domain              : Size : Members\n",
      "        None :     2 : x_index_0*x_index_1 :   21 : {('Gary', 'Farmington'), ('Gary', 'Detroit'), ('Gary', 'Lansing'), ('Gary', 'Winsor'), ('Gary', 'St. Louis'), ('Gary', 'Fremont'), ('Gary', 'Lafayette'), ('Cleveland', 'Farmington'), ('Cleveland', 'Detroit'), ('Cleveland', 'Lansing'), ('Cleveland', 'Winsor'), ('Cleveland', 'St. Louis'), ('Cleveland', 'Fremont'), ('Cleveland', 'Lafayette'), ('Pittsburg', 'Farmington'), ('Pittsburg', 'Detroit'), ('Pittsburg', 'Lansing'), ('Pittsburg', 'Winsor'), ('Pittsburg', 'St. Louis'), ('Pittsburg', 'Fremont'), ('Pittsburg', 'Lafayette')}\n",
      "    x_index_0 : Size=1, Index=None, Ordered=Insertion\n",
      "        Key  : Dimen : Domain : Size : Members\n",
      "        None :     1 :    Any :    3 : {'Gary', 'Cleveland', 'Pittsburg'}\n",
      "    x_index_1 : Size=1, Index=None, Ordered=Insertion\n",
      "        Key  : Dimen : Domain : Size : Members\n",
      "        None :     1 :    Any :    7 : {'Farmington', 'Detroit', 'Lansing', 'Winsor', 'St. Louis', 'Fremont', 'Lafayette'}\n",
      "\n",
      "1 Var Declarations\n",
      "    x : Size=21, Index=x_index\n",
      "        Key                         : Lower : Value : Upper : Fixed : Stale : Domain\n",
      "           ('Cleveland', 'Detroit') :     0 :  None :  None : False :  True : NonNegativeReals\n",
      "        ('Cleveland', 'Farmington') :     0 :  None :  None : False :  True : NonNegativeReals\n",
      "           ('Cleveland', 'Fremont') :     0 :  None :  None : False :  True : NonNegativeReals\n",
      "         ('Cleveland', 'Lafayette') :     0 :  None :  None : False :  True : NonNegativeReals\n",
      "           ('Cleveland', 'Lansing') :     0 :  None :  None : False :  True : NonNegativeReals\n",
      "         ('Cleveland', 'St. Louis') :     0 :  None :  None : False :  True : NonNegativeReals\n",
      "            ('Cleveland', 'Winsor') :     0 :  None :  None : False :  True : NonNegativeReals\n",
      "                ('Gary', 'Detroit') :     0 :  None :  None : False :  True : NonNegativeReals\n",
      "             ('Gary', 'Farmington') :     0 :  None :  None : False :  True : NonNegativeReals\n",
      "                ('Gary', 'Fremont') :     0 :  None :  None : False :  True : NonNegativeReals\n",
      "              ('Gary', 'Lafayette') :     0 :  None :  None : False :  True : NonNegativeReals\n",
      "                ('Gary', 'Lansing') :     0 :  None :  None : False :  True : NonNegativeReals\n",
      "              ('Gary', 'St. Louis') :     0 :  None :  None : False :  True : NonNegativeReals\n",
      "                 ('Gary', 'Winsor') :     0 :  None :  None : False :  True : NonNegativeReals\n",
      "           ('Pittsburg', 'Detroit') :     0 :  None :  None : False :  True : NonNegativeReals\n",
      "        ('Pittsburg', 'Farmington') :     0 :  None :  None : False :  True : NonNegativeReals\n",
      "           ('Pittsburg', 'Fremont') :     0 :  None :  None : False :  True : NonNegativeReals\n",
      "         ('Pittsburg', 'Lafayette') :     0 :  None :  None : False :  True : NonNegativeReals\n",
      "           ('Pittsburg', 'Lansing') :     0 :  None :  None : False :  True : NonNegativeReals\n",
      "         ('Pittsburg', 'St. Louis') :     0 :  None :  None : False :  True : NonNegativeReals\n",
      "            ('Pittsburg', 'Winsor') :     0 :  None :  None : False :  True : NonNegativeReals\n",
      "\n",
      "1 Objective Declarations\n",
      "    obj : Size=1, Index=None, Active=True\n",
      "        Key  : Active : Sense    : Expression\n",
      "        None :   True : minimize : 39*x[Gary,Farmington] + 14*x[Gary,Detroit] + 11*x[Gary,Lansing] + 14*x[Gary,Winsor] + 16*x[Gary,'St. Louis'] + 82*x[Gary,Fremont] + 8*x[Gary,Lafayette] + 27*x[Cleveland,Farmington] + 9*x[Cleveland,Detroit] + 12*x[Cleveland,Lansing] + 9*x[Cleveland,Winsor] + 26*x[Cleveland,'St. Louis'] + 95*x[Cleveland,Fremont] + 17*x[Cleveland,Lafayette] + 24*x[Pittsburg,Farmington] + 14*x[Pittsburg,Detroit] + 17*x[Pittsburg,Lansing] + 13*x[Pittsburg,Winsor] + 28*x[Pittsburg,'St. Louis'] + 99*x[Pittsburg,Fremont] + 20*x[Pittsburg,Lafayette]\n",
      "\n",
      "2 Constraint Declarations\n",
      "    restricao_1 : Size=3, Index=restricao_1_index, Active=True\n",
      "        Key       : Lower  : Body                                                                                                                                                                   : Upper  : Active\n",
      "        Cleveland : 2600.0 : x[Cleveland,Farmington] + x[Cleveland,Detroit] + x[Cleveland,Lansing] + x[Cleveland,Winsor] + x[Cleveland,'St. Louis'] + x[Cleveland,Fremont] + x[Cleveland,Lafayette] : 2600.0 :   True\n",
      "             Gary : 1400.0 :                                    x[Gary,Farmington] + x[Gary,Detroit] + x[Gary,Lansing] + x[Gary,Winsor] + x[Gary,'St. Louis'] + x[Gary,Fremont] + x[Gary,Lafayette] : 1400.0 :   True\n",
      "        Pittsburg : 2900.0 : x[Pittsburg,Farmington] + x[Pittsburg,Detroit] + x[Pittsburg,Lansing] + x[Pittsburg,Winsor] + x[Pittsburg,'St. Louis'] + x[Pittsburg,Fremont] + x[Pittsburg,Lafayette] : 2900.0 :   True\n",
      "    restricao_2 : Size=7, Index=restricao_2_index, Active=True\n",
      "        Key        : Lower  : Body                                                                      : Upper  : Active\n",
      "           Detroit : 1200.0 :             x[Gary,Detroit] + x[Cleveland,Detroit] + x[Pittsburg,Detroit] : 1200.0 :   True\n",
      "        Farmington :  900.0 :    x[Gary,Farmington] + x[Cleveland,Farmington] + x[Pittsburg,Farmington] :  900.0 :   True\n",
      "           Fremont : 1100.0 :             x[Gary,Fremont] + x[Cleveland,Fremont] + x[Pittsburg,Fremont] : 1100.0 :   True\n",
      "         Lafayette : 1000.0 :       x[Gary,Lafayette] + x[Cleveland,Lafayette] + x[Pittsburg,Lafayette] : 1000.0 :   True\n",
      "           Lansing :  600.0 :             x[Gary,Lansing] + x[Cleveland,Lansing] + x[Pittsburg,Lansing] :  600.0 :   True\n",
      "         St. Louis : 1700.0 : x[Gary,'St. Louis'] + x[Cleveland,'St. Louis'] + x[Pittsburg,'St. Louis'] : 1700.0 :   True\n",
      "            Winsor :  400.0 :                x[Gary,Winsor] + x[Cleveland,Winsor] + x[Pittsburg,Winsor] :  400.0 :   True\n",
      "\n",
      "9 Declarations: x_index_0 x_index_1 x_index x obj restricao_1_index restricao_1 restricao_2_index restricao_2\n"
     ]
    }
   ],
   "source": [
    "model.pprint()"
   ]
  },
  {
   "cell_type": "code",
   "execution_count": 227,
   "metadata": {},
   "outputs": [],
   "source": [
    "Resultado = SolverFactory('CPLEX', executable='C:/Solvers/CPLEX.exe').solve(model)"
   ]
  },
  {
   "cell_type": "code",
   "execution_count": 228,
   "metadata": {},
   "outputs": [
    {
     "name": "stdout",
     "output_type": "stream",
     "text": [
      "# ==========================================================\n",
      "# = Solver Results                                         =\n",
      "# ==========================================================\n",
      "# ----------------------------------------------------------\n",
      "#   Problem Information\n",
      "# ----------------------------------------------------------\n",
      "Problem: \n",
      "- Lower bound: -inf\n",
      "  Upper bound: inf\n",
      "  Number of objectives: 1\n",
      "  Number of constraints: 10\n",
      "  Number of variables: 21\n",
      "  Sense: unknown\n",
      "# ----------------------------------------------------------\n",
      "#   Solver Information\n",
      "# ----------------------------------------------------------\n",
      "Solver: \n",
      "- Status: ok\n",
      "  Message: CPLEX 12.6.0.0\\x3a optimal solution; objective 196200; 12 dual simplex iterations (0 in phase I)\n",
      "  Termination condition: optimal\n",
      "  Id: 0\n",
      "  Error rc: 0\n",
      "  Time: 0.6868784427642822\n",
      "# ----------------------------------------------------------\n",
      "#   Solution Information\n",
      "# ----------------------------------------------------------\n",
      "Solution: \n",
      "- number of solutions: 0\n",
      "  number of solutions displayed: 0\n"
     ]
    }
   ],
   "source": [
    "Resultado.write()"
   ]
  },
  {
   "cell_type": "code",
   "execution_count": 229,
   "metadata": {},
   "outputs": [
    {
     "name": "stdout",
     "output_type": "stream",
     "text": [
      "x : Size=21, Index=x_index\n",
      "    Key                         : Lower : Value  : Upper : Fixed : Stale : Domain\n",
      "       ('Cleveland', 'Detroit') :     0 : 1200.0 :  None : False : False : NonNegativeReals\n",
      "    ('Cleveland', 'Farmington') :     0 :    0.0 :  None : False : False : NonNegativeReals\n",
      "       ('Cleveland', 'Fremont') :     0 :    0.0 :  None : False : False : NonNegativeReals\n",
      "     ('Cleveland', 'Lafayette') :     0 :  400.0 :  None : False : False : NonNegativeReals\n",
      "       ('Cleveland', 'Lansing') :     0 :  600.0 :  None : False : False : NonNegativeReals\n",
      "     ('Cleveland', 'St. Louis') :     0 :    0.0 :  None : False : False : NonNegativeReals\n",
      "        ('Cleveland', 'Winsor') :     0 :  400.0 :  None : False : False : NonNegativeReals\n",
      "            ('Gary', 'Detroit') :     0 :    0.0 :  None : False : False : NonNegativeReals\n",
      "         ('Gary', 'Farmington') :     0 :    0.0 :  None : False : False : NonNegativeReals\n",
      "            ('Gary', 'Fremont') :     0 : 1100.0 :  None : False : False : NonNegativeReals\n",
      "          ('Gary', 'Lafayette') :     0 :  300.0 :  None : False : False : NonNegativeReals\n",
      "            ('Gary', 'Lansing') :     0 :    0.0 :  None : False : False : NonNegativeReals\n",
      "          ('Gary', 'St. Louis') :     0 :    0.0 :  None : False : False : NonNegativeReals\n",
      "             ('Gary', 'Winsor') :     0 :    0.0 :  None : False : False : NonNegativeReals\n",
      "       ('Pittsburg', 'Detroit') :     0 :    0.0 :  None : False : False : NonNegativeReals\n",
      "    ('Pittsburg', 'Farmington') :     0 :  900.0 :  None : False : False : NonNegativeReals\n",
      "       ('Pittsburg', 'Fremont') :     0 :    0.0 :  None : False : False : NonNegativeReals\n",
      "     ('Pittsburg', 'Lafayette') :     0 :  300.0 :  None : False : False : NonNegativeReals\n",
      "       ('Pittsburg', 'Lansing') :     0 :    0.0 :  None : False : False : NonNegativeReals\n",
      "     ('Pittsburg', 'St. Louis') :     0 : 1700.0 :  None : False : False : NonNegativeReals\n",
      "        ('Pittsburg', 'Winsor') :     0 :    0.0 :  None : False : False : NonNegativeReals\n"
     ]
    }
   ],
   "source": [
    "model.x.pprint()"
   ]
  },
  {
   "cell_type": "code",
   "execution_count": 230,
   "metadata": {},
   "outputs": [
    {
     "name": "stdout",
     "output_type": "stream",
     "text": [
      "5 Set Declarations\n",
      "    restricao_1_index : Size=1, Index=None, Ordered=Insertion\n",
      "        Key  : Dimen : Domain : Size : Members\n",
      "        None :     1 :    Any :    3 : {'Gary', 'Cleveland', 'Pittsburg'}\n",
      "    restricao_2_index : Size=1, Index=None, Ordered=Insertion\n",
      "        Key  : Dimen : Domain : Size : Members\n",
      "        None :     1 :    Any :    7 : {'Farmington', 'Detroit', 'Lansing', 'Winsor', 'St. Louis', 'Fremont', 'Lafayette'}\n",
      "    x_index : Size=1, Index=None, Ordered=True\n",
      "        Key  : Dimen : Domain              : Size : Members\n",
      "        None :     2 : x_index_0*x_index_1 :   21 : {('Gary', 'Farmington'), ('Gary', 'Detroit'), ('Gary', 'Lansing'), ('Gary', 'Winsor'), ('Gary', 'St. Louis'), ('Gary', 'Fremont'), ('Gary', 'Lafayette'), ('Cleveland', 'Farmington'), ('Cleveland', 'Detroit'), ('Cleveland', 'Lansing'), ('Cleveland', 'Winsor'), ('Cleveland', 'St. Louis'), ('Cleveland', 'Fremont'), ('Cleveland', 'Lafayette'), ('Pittsburg', 'Farmington'), ('Pittsburg', 'Detroit'), ('Pittsburg', 'Lansing'), ('Pittsburg', 'Winsor'), ('Pittsburg', 'St. Louis'), ('Pittsburg', 'Fremont'), ('Pittsburg', 'Lafayette')}\n",
      "    x_index_0 : Size=1, Index=None, Ordered=Insertion\n",
      "        Key  : Dimen : Domain : Size : Members\n",
      "        None :     1 :    Any :    3 : {'Gary', 'Cleveland', 'Pittsburg'}\n",
      "    x_index_1 : Size=1, Index=None, Ordered=Insertion\n",
      "        Key  : Dimen : Domain : Size : Members\n",
      "        None :     1 :    Any :    7 : {'Farmington', 'Detroit', 'Lansing', 'Winsor', 'St. Louis', 'Fremont', 'Lafayette'}\n",
      "\n",
      "1 Var Declarations\n",
      "    x : Size=21, Index=x_index\n",
      "        Key                         : Lower : Value  : Upper : Fixed : Stale : Domain\n",
      "           ('Cleveland', 'Detroit') :     0 : 1200.0 :  None : False : False : NonNegativeReals\n",
      "        ('Cleveland', 'Farmington') :     0 :    0.0 :  None : False : False : NonNegativeReals\n",
      "           ('Cleveland', 'Fremont') :     0 :    0.0 :  None : False : False : NonNegativeReals\n",
      "         ('Cleveland', 'Lafayette') :     0 :  400.0 :  None : False : False : NonNegativeReals\n",
      "           ('Cleveland', 'Lansing') :     0 :  600.0 :  None : False : False : NonNegativeReals\n",
      "         ('Cleveland', 'St. Louis') :     0 :    0.0 :  None : False : False : NonNegativeReals\n",
      "            ('Cleveland', 'Winsor') :     0 :  400.0 :  None : False : False : NonNegativeReals\n",
      "                ('Gary', 'Detroit') :     0 :    0.0 :  None : False : False : NonNegativeReals\n",
      "             ('Gary', 'Farmington') :     0 :    0.0 :  None : False : False : NonNegativeReals\n",
      "                ('Gary', 'Fremont') :     0 : 1100.0 :  None : False : False : NonNegativeReals\n",
      "              ('Gary', 'Lafayette') :     0 :  300.0 :  None : False : False : NonNegativeReals\n",
      "                ('Gary', 'Lansing') :     0 :    0.0 :  None : False : False : NonNegativeReals\n",
      "              ('Gary', 'St. Louis') :     0 :    0.0 :  None : False : False : NonNegativeReals\n",
      "                 ('Gary', 'Winsor') :     0 :    0.0 :  None : False : False : NonNegativeReals\n",
      "           ('Pittsburg', 'Detroit') :     0 :    0.0 :  None : False : False : NonNegativeReals\n",
      "        ('Pittsburg', 'Farmington') :     0 :  900.0 :  None : False : False : NonNegativeReals\n",
      "           ('Pittsburg', 'Fremont') :     0 :    0.0 :  None : False : False : NonNegativeReals\n",
      "         ('Pittsburg', 'Lafayette') :     0 :  300.0 :  None : False : False : NonNegativeReals\n",
      "           ('Pittsburg', 'Lansing') :     0 :    0.0 :  None : False : False : NonNegativeReals\n",
      "         ('Pittsburg', 'St. Louis') :     0 : 1700.0 :  None : False : False : NonNegativeReals\n",
      "            ('Pittsburg', 'Winsor') :     0 :    0.0 :  None : False : False : NonNegativeReals\n",
      "\n",
      "1 Objective Declarations\n",
      "    obj : Size=1, Index=None, Active=True\n",
      "        Key  : Active : Sense    : Expression\n",
      "        None :   True : minimize : 39*x[Gary,Farmington] + 14*x[Gary,Detroit] + 11*x[Gary,Lansing] + 14*x[Gary,Winsor] + 16*x[Gary,'St. Louis'] + 82*x[Gary,Fremont] + 8*x[Gary,Lafayette] + 27*x[Cleveland,Farmington] + 9*x[Cleveland,Detroit] + 12*x[Cleveland,Lansing] + 9*x[Cleveland,Winsor] + 26*x[Cleveland,'St. Louis'] + 95*x[Cleveland,Fremont] + 17*x[Cleveland,Lafayette] + 24*x[Pittsburg,Farmington] + 14*x[Pittsburg,Detroit] + 17*x[Pittsburg,Lansing] + 13*x[Pittsburg,Winsor] + 28*x[Pittsburg,'St. Louis'] + 99*x[Pittsburg,Fremont] + 20*x[Pittsburg,Lafayette]\n",
      "\n",
      "2 Constraint Declarations\n",
      "    restricao_1 : Size=3, Index=restricao_1_index, Active=True\n",
      "        Key       : Lower  : Body                                                                                                                                                                   : Upper  : Active\n",
      "        Cleveland : 2600.0 : x[Cleveland,Farmington] + x[Cleveland,Detroit] + x[Cleveland,Lansing] + x[Cleveland,Winsor] + x[Cleveland,'St. Louis'] + x[Cleveland,Fremont] + x[Cleveland,Lafayette] : 2600.0 :   True\n",
      "             Gary : 1400.0 :                                    x[Gary,Farmington] + x[Gary,Detroit] + x[Gary,Lansing] + x[Gary,Winsor] + x[Gary,'St. Louis'] + x[Gary,Fremont] + x[Gary,Lafayette] : 1400.0 :   True\n",
      "        Pittsburg : 2900.0 : x[Pittsburg,Farmington] + x[Pittsburg,Detroit] + x[Pittsburg,Lansing] + x[Pittsburg,Winsor] + x[Pittsburg,'St. Louis'] + x[Pittsburg,Fremont] + x[Pittsburg,Lafayette] : 2900.0 :   True\n",
      "    restricao_2 : Size=7, Index=restricao_2_index, Active=True\n",
      "        Key        : Lower  : Body                                                                      : Upper  : Active\n",
      "           Detroit : 1200.0 :             x[Gary,Detroit] + x[Cleveland,Detroit] + x[Pittsburg,Detroit] : 1200.0 :   True\n",
      "        Farmington :  900.0 :    x[Gary,Farmington] + x[Cleveland,Farmington] + x[Pittsburg,Farmington] :  900.0 :   True\n",
      "           Fremont : 1100.0 :             x[Gary,Fremont] + x[Cleveland,Fremont] + x[Pittsburg,Fremont] : 1100.0 :   True\n",
      "         Lafayette : 1000.0 :       x[Gary,Lafayette] + x[Cleveland,Lafayette] + x[Pittsburg,Lafayette] : 1000.0 :   True\n",
      "           Lansing :  600.0 :             x[Gary,Lansing] + x[Cleveland,Lansing] + x[Pittsburg,Lansing] :  600.0 :   True\n",
      "         St. Louis : 1700.0 : x[Gary,'St. Louis'] + x[Cleveland,'St. Louis'] + x[Pittsburg,'St. Louis'] : 1700.0 :   True\n",
      "            Winsor :  400.0 :                x[Gary,Winsor] + x[Cleveland,Winsor] + x[Pittsburg,Winsor] :  400.0 :   True\n",
      "\n",
      "9 Declarations: x_index_0 x_index_1 x_index x obj restricao_1_index restricao_1 restricao_2_index restricao_2\n"
     ]
    }
   ],
   "source": [
    "model.pprint()"
   ]
  },
  {
   "cell_type": "code",
   "execution_count": null,
   "metadata": {},
   "outputs": [],
   "source": []
  }
 ],
 "metadata": {
  "kernelspec": {
   "display_name": "Python 3",
   "language": "python",
   "name": "python3"
  },
  "language_info": {
   "codemirror_mode": {
    "name": "ipython",
    "version": 3
   },
   "file_extension": ".py",
   "mimetype": "text/x-python",
   "name": "python",
   "nbconvert_exporter": "python",
   "pygments_lexer": "ipython3",
   "version": "3.11.4"
  },
  "orig_nbformat": 4
 },
 "nbformat": 4,
 "nbformat_minor": 2
}
