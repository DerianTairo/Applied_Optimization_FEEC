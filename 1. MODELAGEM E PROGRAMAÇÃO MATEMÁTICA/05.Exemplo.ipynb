{
 "cells": [
  {
   "cell_type": "markdown",
   "metadata": {},
   "source": [
    "### Exemplo 5. Problema de mínimos quadrados.\n",
    "\n",
    "-Encontrar a reta (coeficiente angular e linear) que melhor se ajuste ao conjunto de pontos dados minimizando o erro resultante do ajustamento(soma dos quadrados das diferenças entre os valores tabelados e os valores obtidos pela aproximação).\n",
    "\n",
    "| | | | | |\n",
    "| :--: | :----: | :---: | :----: | :----: |\n",
    "| x | 2 | 4 | 6 | 8 |\n",
    "| y | 2 | 11 | 28 | 40 |\n"
   ]
  },
  {
   "cell_type": "code",
   "execution_count": null,
   "metadata": {},
   "outputs": [],
   "source": []
  }
 ],
 "metadata": {
  "language_info": {
   "name": "python"
  },
  "orig_nbformat": 4
 },
 "nbformat": 4,
 "nbformat_minor": 2
}
