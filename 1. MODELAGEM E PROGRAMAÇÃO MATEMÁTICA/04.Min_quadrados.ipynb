{
 "cells": [
  {
   "cell_type": "markdown",
   "metadata": {},
   "source": [
    "### Exemplo 4. Problema de mínimos quadrados.\n",
    "\n",
    "- Encontrar a reta (coeficiente angular e linear) que melhor se ajuste ao conjunto de pontos dados minimizando o erro resultante do ajustamento(soma dos quadrados das diferenças entre os valores tabelados e os valores obtidos pela aproximação).\n",
    "\n",
    "\n",
    "\n",
    "| x | 2 | 4 | 6 | 8 |\n",
    "| :--: | :----: | :---: | :----: | :----: |\n",
    "| y | 2 | 11 | 28 | 40 |\n"
   ]
  },
  {
   "cell_type": "markdown",
   "metadata": {},
   "source": [
    "### Formulação\n",
    "\n",
    "#### Variáveis de decisão:\n",
    "\n",
    "$b \\colon \\text{Pendente}$\n",
    "\n",
    "$m \\colon \\text{Coeficente Independente}$\n",
    "\n",
    "$y_1 \\colon \\text{Distancia minima}$\n",
    "\n",
    "$y_2 \\colon \\text{Distancia minima}$\n",
    "\n",
    "$y_3 \\colon \\text{Distancia minima}$\n",
    "\n",
    "$y_4 \\colon \\text{Distancia minima}$\n",
    "\n",
    "#### Função objetivo:\n",
    "\n",
    "$\\mathrm{Min} \\; z = (y_1-2)^2 + (y_2-11)^2 + (y_3-28)^2 + (y_4-40)^2 $\n",
    "\n",
    "#### Restrições:\n",
    "\n",
    "$ y_1 = m(2) + b $\n",
    "\n",
    "$ y_2 = m(4) + b $\n",
    "\n",
    "$ y_3 = m(6) + b $\n",
    "\n",
    "$ y_4 = m(8) + b $\n"
   ]
  },
  {
   "cell_type": "markdown",
   "metadata": {},
   "source": [
    "### Modelo Computacional"
   ]
  },
  {
   "cell_type": "code",
   "execution_count": 1,
   "metadata": {},
   "outputs": [],
   "source": [
    "from pyomo.environ import *"
   ]
  },
  {
   "cell_type": "code",
   "execution_count": 2,
   "metadata": {},
   "outputs": [],
   "source": [
    "model = ConcreteModel()"
   ]
  },
  {
   "cell_type": "code",
   "execution_count": 3,
   "metadata": {},
   "outputs": [],
   "source": [
    "# Declaração das variáveis de decisão\n",
    "\n",
    "model.b = Var(domain = NonNegativeReals)\n",
    "model.m = Var(domain = NonNegativeReals)\n",
    "model.y_1 = Var(domain = NonNegativeReals)\n",
    "model.y_2 = Var(domain = NonNegativeReals)\n",
    "model.y_3 = Var(domain = NonNegativeReals)\n",
    "model.y_4 = Var(domain = NonNegativeReals)\n"
   ]
  },
  {
   "cell_type": "code",
   "execution_count": null,
   "metadata": {},
   "outputs": [],
   "source": [
    "# Declaração da função objetivo\n",
    "\n",
    "\n"
   ]
  }
 ],
 "metadata": {
  "kernelspec": {
   "display_name": "Python 3",
   "language": "python",
   "name": "python3"
  },
  "language_info": {
   "codemirror_mode": {
    "name": "ipython",
    "version": 3
   },
   "file_extension": ".py",
   "mimetype": "text/x-python",
   "name": "python",
   "nbconvert_exporter": "python",
   "pygments_lexer": "ipython3",
   "version": "3.11.4"
  },
  "orig_nbformat": 4
 },
 "nbformat": 4,
 "nbformat_minor": 2
}
