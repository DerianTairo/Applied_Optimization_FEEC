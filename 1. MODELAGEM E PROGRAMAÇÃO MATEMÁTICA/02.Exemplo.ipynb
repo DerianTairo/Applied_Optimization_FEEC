{
 "cells": [
  {
   "cell_type": "markdown",
   "metadata": {},
   "source": [
    "### Exemplo 2. Planejamento da visita a sítios turísticos.\n",
    "\n",
    "-Você está de férias em Paris e quer visitar alguns sítios turísticos aproveitando ao máximo os R$1500 que tem disponível para as entradas. Baseado nas descrições que se encontram em *LonelyPlanet* você realizou uma estimativa de quanto poderia se divertir em cada sítio turístico, qualificando-os de **1** a **5**.\n",
    "\n",
    "\n",
    "| Sitio Turístico | Satisfação esperada | Custo de entrada [$] |\n",
    "| :--: | :----: | :---: |\n",
    "| Museu do Louvre |5 | 440 | \n",
    "| Palacio de Versalles |5 | 600 |\n",
    "| Torre Eiffel |4 | 420 |\n",
    "| Arco do Triunfo |3 | 160 |c\n",
    "| Catedral de Notre Dame |3 | 360 |\n",
    "| City Tour |2 | 110 |\n",
    "| Cruzeiro pelo Rio Sena | 2 | 120 |\n",
    "| Moulin Rouge |1 | 300 |\n",
    "\n",
    "\n",
    "- Qual é o plano de visita que maximiza sua satisfação esperada?"
   ]
  },
  {
   "cell_type": "code",
   "execution_count": null,
   "metadata": {},
   "outputs": [],
   "source": []
  }
 ],
 "metadata": {
  "kernelspec": {
   "display_name": "Python 3",
   "language": "python",
   "name": "python3"
  },
  "language_info": {
   "codemirror_mode": {
    "name": "ipython",
    "version": 3
   },
   "file_extension": ".py",
   "mimetype": "text/x-python",
   "name": "python",
   "nbconvert_exporter": "python",
   "pygments_lexer": "ipython3",
   "version": "3.11.4"
  },
  "orig_nbformat": 4
 },
 "nbformat": 4,
 "nbformat_minor": 2
}
