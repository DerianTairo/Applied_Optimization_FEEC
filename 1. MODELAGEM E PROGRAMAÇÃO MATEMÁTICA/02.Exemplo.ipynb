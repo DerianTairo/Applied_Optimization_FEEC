{
 "cells": [
  {
   "cell_type": "markdown",
   "metadata": {},
   "source": [
    "### Exemplo 2. Planejamento da visita a sítios turísticos.\n",
    "\n",
    "- Você está de férias em Paris e quer visitar alguns sítios turísticos aproveitando ao máximo os R$1500 que tem disponível para as entradas. Baseado nas descrições que se encontram em *LonelyPlanet* você realizou uma estimativa de quanto poderia se divertir em cada sítio turístico, qualificando-os de **1** a **5**.\n",
    "\n",
    "\n",
    "| Sitio Turístico | Satisfação esperada | Custo de entrada [$] |\n",
    "| :-- | :----: | :---: |\n",
    "| Museu do Louvre |5 | 440 | \n",
    "| Palacio de Versalles |5 | 600 |\n",
    "| Torre Eiffel |4 | 420 |\n",
    "| Arco do Triunfo |3 | 160 |\n",
    "| Catedral de Notre Dame |3 | 360 |\n",
    "| City Tour |2 | 110 |\n",
    "| Cruzeiro pelo Rio Sena | 2 | 120 |\n",
    "| Moulin Rouge |1 | 300 |\n",
    "\n",
    "\n",
    "- Qual é o plano de visita que maximiza sua satisfação esperada?"
   ]
  },
  {
   "cell_type": "markdown",
   "metadata": {},
   "source": [
    "### Modelo Computacional"
   ]
  },
  {
   "cell_type": "code",
   "execution_count": 38,
   "metadata": {},
   "outputs": [],
   "source": [
    "from pyomo.environ import *"
   ]
  },
  {
   "cell_type": "code",
   "execution_count": 39,
   "metadata": {},
   "outputs": [],
   "source": [
    "#Declare Sets and parameters\n",
    "\n",
    "A = ['Museo_Louvre', 'Versalles', 'Torre_Eiffel', 'Arc_Triunfo', 'Cat_NotreDame', 'City_tour', 'Rio_Sena', 'Moulin_Rouge']\n",
    "b = {'Museo_Louvre':5, 'Versalles':5, 'Torre_Eiffel':4, 'Arc_Triunfo':3, 'Cat_NotreDame':3, 'City_tour':2, 'Rio_Sena':2, 'Moulin_Rouge': 1}\n",
    "c = {'Museo_Louvre':440, 'Versalles':600, 'Torre_Eiffel':420, 'Arc_Triunfo':160, 'Cat_NotreDame':360, 'City_tour':110, 'Rio_Sena':120, 'Moulin_Rouge': 300}\n",
    "c_max = 1500"
   ]
  },
  {
   "cell_type": "code",
   "execution_count": 40,
   "metadata": {},
   "outputs": [],
   "source": [
    "model = ConcreteModel()"
   ]
  },
  {
   "cell_type": "code",
   "execution_count": 41,
   "metadata": {},
   "outputs": [],
   "source": [
    "#Declare Decision Variables\n",
    "\n",
    "model.x = Var(A, within=Binary)"
   ]
  },
  {
   "cell_type": "code",
   "execution_count": 42,
   "metadata": {},
   "outputs": [],
   "source": [
    "#Declare Objective Function\n",
    "\n",
    "model.satisfaction = Objective(expr = sum(b[i]*model.x[i] for i in A), sense = maximize)\n"
   ]
  },
  {
   "cell_type": "code",
   "execution_count": 43,
   "metadata": {},
   "outputs": [],
   "source": [
    "#Declare constraints \n",
    "\n",
    "model.custo = Constraint(expr = sum(c[i]*model.x[i] for i in A) <= c_max)"
   ]
  },
  {
   "cell_type": "code",
   "execution_count": 44,
   "metadata": {},
   "outputs": [],
   "source": [
    "#Solve Problem \n",
    "\n",
    "Resultado = SolverFactory('cbc', executable='C:/Solvers/cbc.exe').solve(model)\n"
   ]
  },
  {
   "cell_type": "code",
   "execution_count": 45,
   "metadata": {},
   "outputs": [
    {
     "name": "stdout",
     "output_type": "stream",
     "text": [
      "1 Set Declarations\n",
      "    x_index : Size=1, Index=None, Ordered=Insertion\n",
      "        Key  : Dimen : Domain : Size : Members\n",
      "        None :     1 :    Any :    8 : {'Museo_Louvre', 'Versalles', 'Torre_Eiffel', 'Arc_Triunfo', 'Cat_NotreDame', 'City_tour', 'Rio_Sena', 'Moulin_Rouge'}\n",
      "\n",
      "1 Var Declarations\n",
      "    x : Size=8, Index=x_index\n",
      "        Key           : Lower : Value : Upper : Fixed : Stale : Domain\n",
      "          Arc_Triunfo :     0 :   1.0 :     1 : False : False : Binary\n",
      "        Cat_NotreDame :     0 :   0.0 :     1 : False : False : Binary\n",
      "            City_tour :     0 :   1.0 :     1 : False : False : Binary\n",
      "         Moulin_Rouge :     0 :   0.0 :     1 : False : False : Binary\n",
      "         Museo_Louvre :     0 :   1.0 :     1 : False : False : Binary\n",
      "             Rio_Sena :     0 :   1.0 :     1 : False : False : Binary\n",
      "         Torre_Eiffel :     0 :   0.0 :     1 : False : False : Binary\n",
      "            Versalles :     0 :   1.0 :     1 : False : False : Binary\n",
      "\n",
      "1 Objective Declarations\n",
      "    satisfaction : Size=1, Index=None, Active=True\n",
      "        Key  : Active : Sense    : Expression\n",
      "        None :   True : maximize : 5*x[Museo_Louvre] + 5*x[Versalles] + 4*x[Torre_Eiffel] + 3*x[Arc_Triunfo] + 3*x[Cat_NotreDame] + 2*x[City_tour] + 2*x[Rio_Sena] + x[Moulin_Rouge]\n",
      "\n",
      "1 Constraint Declarations\n",
      "    custo : Size=1, Index=None, Active=True\n",
      "        Key  : Lower : Body                                                                                                                                                                : Upper  : Active\n",
      "        None :  -Inf : 440*x[Museo_Louvre] + 600*x[Versalles] + 420*x[Torre_Eiffel] + 160*x[Arc_Triunfo] + 360*x[Cat_NotreDame] + 110*x[City_tour] + 120*x[Rio_Sena] + 300*x[Moulin_Rouge] : 1500.0 :   True\n",
      "\n",
      "4 Declarations: x_index x satisfaction custo\n"
     ]
    }
   ],
   "source": [
    "model.pprint()"
   ]
  }
 ],
 "metadata": {
  "kernelspec": {
   "display_name": "Python 3",
   "language": "python",
   "name": "python3"
  },
  "language_info": {
   "codemirror_mode": {
    "name": "ipython",
    "version": 3
   },
   "file_extension": ".py",
   "mimetype": "text/x-python",
   "name": "python",
   "nbconvert_exporter": "python",
   "pygments_lexer": "ipython3",
   "version": "3.11.4"
  },
  "orig_nbformat": 4
 },
 "nbformat": 4,
 "nbformat_minor": 2
}
