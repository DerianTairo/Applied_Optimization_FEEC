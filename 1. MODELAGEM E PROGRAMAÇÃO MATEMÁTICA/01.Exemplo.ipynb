{
 "cells": [
  {
   "cell_type": "markdown",
   "metadata": {},
   "source": [
    "### Exemplo 1. Operação de uma empresa de aço.\n",
    "\n",
    "- Uma empresa de aço fabrica dois produtos: lâminas e bobinas.\n",
    "- Cada produto tem uma velocidade de fabricação um lucro por tonelada e umaquantidade de produção máxima por semana:\n",
    "\n",
    "\n",
    "| Produto | Toneladas por hora | Lucro por tonelada [$] | Toneladas máximas |\n",
    "| :--: | :----: | :---: | :----: |\n",
    "| Lâminas | 200 | 25 | 6000 |\n",
    "| Bobinas | 140 | 30 | 4000 |\n",
    "\n",
    "- Se 40 horas é o tempo de produção disponível para esta semana.\n",
    "- Quantas toneladas de lâminas e quantas toneladas de bobinas se devem produzir para obter o maior lucro total?"
   ]
  },
  {
   "cell_type": "code",
   "execution_count": null,
   "metadata": {},
   "outputs": [],
   "source": []
  },
  {
   "cell_type": "markdown",
   "metadata": {},
   "source": []
  }
 ],
 "metadata": {
  "kernelspec": {
   "display_name": "Python 3",
   "language": "python",
   "name": "python3"
  },
  "language_info": {
   "codemirror_mode": {
    "name": "ipython",
    "version": 3
   },
   "file_extension": ".py",
   "mimetype": "text/x-python",
   "name": "python",
   "nbconvert_exporter": "python",
   "pygments_lexer": "ipython3",
   "version": "3.11.4"
  },
  "orig_nbformat": 4
 },
 "nbformat": 4,
 "nbformat_minor": 2
}
