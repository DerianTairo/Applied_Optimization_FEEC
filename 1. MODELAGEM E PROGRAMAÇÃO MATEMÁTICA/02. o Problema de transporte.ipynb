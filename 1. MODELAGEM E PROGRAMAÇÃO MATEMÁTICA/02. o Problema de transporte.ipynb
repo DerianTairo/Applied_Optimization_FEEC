{
 "cells": [
  {
   "cell_type": "markdown",
   "metadata": {},
   "source": [
    "## Exemplo 02. O problema de transporte\n",
    "\n",
    "### Custos de transporte por tonelada, produção e Demanda\n",
    "\n",
    "| SID/FAB|Farmington [$-Ton]|Detroit [$-Ton]|Lansing [$-Ton]|Winsor [$-Ton]| St. Louis [$-Ton] | Fremont [$-Ton]| Lafayette [$-Ton]| **Produção [Ton]**|\n",
    "|:----:|:----:|:----:|:----:|:----:|:----:|:----:|:----:| :----:|\n",
    "|Gary| 39 | 14 | 11 | 14 | 16 | 82 | 8 | 1400 |\n",
    "|Cleveland| 27 | 9 | 12 | 9 | 26 | 95 | 17 | 2600 |\n",
    "|Pittsburg| 24 | 14 | 17 | 13 | 28 | 99 | 20 | 2900 |\n",
    "|**Demanda [Ton]**| 900 | 1200 | 600 | 400 | 1700 | 1100 | 1100 | $ \\sum{6900}$ |\n",
    "\n",
    "![Transporte](../Figuras/1.2.png)"
   ]
  },
  {
   "cell_type": "markdown",
   "metadata": {},
   "source": [
    "## Formulação General\n",
    "\n",
    "### Conjuntos\n",
    "- $ S: \\text{ Conjunto de siderúrgicas}$\n",
    "- $ F: \\text{Conjunto de fábricas}$\n",
    "\n",
    "### Parâmetros\n",
    "- $ c_{s,f} : \\text{Custo de tranporte por tonelada da siderúrgica s para a fábrica f} $\n",
    "- $ p_{s} : \\text{Produção da siderúrgica en toneladas} $\n",
    "- $ d_{f} : \\text{Demanda da fábrica f em toneladas} $\n",
    "\n",
    "### Variáveis de decisão\n",
    "\n",
    "- $x_{s,f} : \\text{Toneladas transportadas da siderúrgica s para a fábrica f}$ \n",
    "\n",
    "### Função objetivo \n",
    "\n",
    "- $ \\mathrm{Min} \\sum\\limits_{s \\in S} \\sum\\limits_{f \\in F} c_{s,f} x _{s,f}$\n",
    "\n",
    "### Restrições \n",
    "\n",
    "- $ \\sum\\limits_{f \\in F} x_{s,f} = p_{s}  \\;\\;\\;\\;\\;\\; \\forall s \\in S $\n",
    "- $ \\sum\\limits_{s \\in S} x_{s,f} = d_{f} \\;\\;\\;\\;\\;\\; \\forall f \\in F $\n",
    "- $ x_{s,f} \\geq 0 \\;\\; \\forall s \\in S \\text{, } f \\in F $\n",
    "\n"
   ]
  },
  {
   "cell_type": "markdown",
   "metadata": {},
   "source": []
  },
  {
   "cell_type": "code",
   "execution_count": 47,
   "metadata": {},
   "outputs": [],
   "source": [
    "import pandas as pd\n"
   ]
  },
  {
   "cell_type": "markdown",
   "metadata": {},
   "source": [
    "### Leitura de dados"
   ]
  },
  {
   "cell_type": "code",
   "execution_count": 48,
   "metadata": {},
   "outputs": [
    {
     "name": "stdout",
     "output_type": "stream",
     "text": [
      "           Farmington  Detroit  Lansing  Winsor  St. Louis  Fremont  Lafayette\n",
      "Gary               39       14       11      14         16       82          8\n",
      "Cleveland          27        9       12       9         26       95         17\n",
      "Pittsburg          24       14       17      13         28       99         20\n"
     ]
    }
   ],
   "source": [
    "df = pd.read_excel('../Datos/1.2.xlsx','Datos', header=0, index_col=0)\n",
    "print(df)"
   ]
  },
  {
   "cell_type": "code",
   "execution_count": 49,
   "metadata": {},
   "outputs": [
    {
     "name": "stdout",
     "output_type": "stream",
     "text": [
      "           Producao\n",
      "Gary           1400\n",
      "Cleveland      2600\n",
      "Pittsburg      2900\n"
     ]
    }
   ],
   "source": [
    "df_2 = pd.read_excel('../Datos/1.2.xlsx','Prod', header=0, index_col=0)\n",
    "print(df_2)"
   ]
  },
  {
   "cell_type": "code",
   "execution_count": 50,
   "metadata": {},
   "outputs": [
    {
     "name": "stdout",
     "output_type": "stream",
     "text": [
      "            Demanda\n",
      "Farmington      900\n",
      "Detroit        1200\n",
      "Lansing         600\n",
      "Winsor          400\n",
      "St. Louis      1700\n",
      "Fremont        1100\n",
      "Lafayette      1000\n"
     ]
    }
   ],
   "source": [
    "df_3 = pd.read_excel('../Datos/1.2.xlsx','Dem', header=0, index_col=0)\n",
    "print(df_3)"
   ]
  },
  {
   "cell_type": "markdown",
   "metadata": {},
   "source": [
    "### Conjuntos"
   ]
  },
  {
   "cell_type": "code",
   "execution_count": 51,
   "metadata": {},
   "outputs": [],
   "source": [
    "SID = list(df.index.map(str))\n",
    "FAB = list(df.columns.map(str))"
   ]
  },
  {
   "cell_type": "markdown",
   "metadata": {},
   "source": [
    "### Parâmetros"
   ]
  },
  {
   "cell_type": "code",
   "execution_count": 52,
   "metadata": {},
   "outputs": [],
   "source": [
    "costos = {(s,f):df.at[s,f] for s in SID for f in FAB}"
   ]
  },
  {
   "cell_type": "code",
   "execution_count": 53,
   "metadata": {},
   "outputs": [],
   "source": [
    "producao = df_2.to_dict()['Producao']"
   ]
  },
  {
   "cell_type": "code",
   "execution_count": 54,
   "metadata": {},
   "outputs": [],
   "source": [
    "demanda = df_3.to_dict()['Demanda']"
   ]
  },
  {
   "cell_type": "markdown",
   "metadata": {},
   "source": [
    "### Modelamento no Pyomo"
   ]
  },
  {
   "cell_type": "code",
   "execution_count": 55,
   "metadata": {},
   "outputs": [],
   "source": [
    "from pyomo.environ import *\n",
    "model = ConcreteModel()"
   ]
  },
  {
   "cell_type": "markdown",
   "metadata": {},
   "source": [
    "#### Conjuntos e Parâmetros"
   ]
  },
  {
   "cell_type": "code",
   "execution_count": 56,
   "metadata": {},
   "outputs": [],
   "source": [
    "S = (SID)\n",
    "F = (FAB)\n",
    "c = (costos)\n",
    "p = (producao)\n",
    "d = (demanda)\n"
   ]
  },
  {
   "cell_type": "code",
   "execution_count": 57,
   "metadata": {},
   "outputs": [],
   "source": [
    "model.x = Var(S,F, domain = NonNegativeReals)"
   ]
  },
  {
   "cell_type": "code",
   "execution_count": 58,
   "metadata": {},
   "outputs": [],
   "source": [
    "def obj_rule(m):\n",
    "    return sum(c[s,f]*m.x[s,f] for s in S for f in F)\n",
    "model.obj = Objective(rule = obj_rule, sense = minimize)"
   ]
  },
  {
   "cell_type": "code",
   "execution_count": 59,
   "metadata": {},
   "outputs": [],
   "source": [
    "def pro_cost_rule(m,s):\n",
    "    return sum(m.x[s,f] for f in F) == p[s]\n",
    "model.restricao_1 = Constraint(S, rule=pro_cost_rule)"
   ]
  },
  {
   "cell_type": "code",
   "execution_count": 60,
   "metadata": {},
   "outputs": [],
   "source": [
    "def dem_cost_rule(m,f):\n",
    "    return sum(m.x[s,f] for s in S) == d[f]\n",
    "model.restricao_2 = Constraint(F, rule=dem_cost_rule)"
   ]
  },
  {
   "cell_type": "code",
   "execution_count": 67,
   "metadata": {},
   "outputs": [],
   "source": [
    "Resultado = SolverFactory('cbc', executable='C:/Solvers/cbc.exe').solve(model)"
   ]
  },
  {
   "cell_type": "code",
   "execution_count": 75,
   "metadata": {},
   "outputs": [
    {
     "name": "stdout",
     "output_type": "stream",
     "text": [
      "x : Size=21, Index=x_index\n",
      "    Key                         : Lower : Value  : Upper : Fixed : Stale : Domain\n",
      "       ('Cleveland', 'Detroit') :     0 : 1200.0 :  None : False : False : NonNegativeReals\n",
      "    ('Cleveland', 'Farmington') :     0 :    0.0 :  None : False : False : NonNegativeReals\n",
      "       ('Cleveland', 'Fremont') :     0 :    0.0 :  None : False : False : NonNegativeReals\n",
      "     ('Cleveland', 'Lafayette') :     0 :  400.0 :  None : False : False : NonNegativeReals\n",
      "       ('Cleveland', 'Lansing') :     0 :  600.0 :  None : False : False : NonNegativeReals\n",
      "     ('Cleveland', 'St. Louis') :     0 :    0.0 :  None : False : False : NonNegativeReals\n",
      "        ('Cleveland', 'Winsor') :     0 :  400.0 :  None : False : False : NonNegativeReals\n",
      "            ('Gary', 'Detroit') :     0 :    0.0 :  None : False : False : NonNegativeReals\n",
      "         ('Gary', 'Farmington') :     0 :    0.0 :  None : False : False : NonNegativeReals\n",
      "            ('Gary', 'Fremont') :     0 : 1100.0 :  None : False : False : NonNegativeReals\n",
      "          ('Gary', 'Lafayette') :     0 :  300.0 :  None : False : False : NonNegativeReals\n",
      "            ('Gary', 'Lansing') :     0 :    0.0 :  None : False : False : NonNegativeReals\n",
      "          ('Gary', 'St. Louis') :     0 :    0.0 :  None : False : False : NonNegativeReals\n",
      "             ('Gary', 'Winsor') :     0 :    0.0 :  None : False : False : NonNegativeReals\n",
      "       ('Pittsburg', 'Detroit') :     0 :    0.0 :  None : False : False : NonNegativeReals\n",
      "    ('Pittsburg', 'Farmington') :     0 :  900.0 :  None : False : False : NonNegativeReals\n",
      "       ('Pittsburg', 'Fremont') :     0 :    0.0 :  None : False : False : NonNegativeReals\n",
      "     ('Pittsburg', 'Lafayette') :     0 :  300.0 :  None : False : False : NonNegativeReals\n",
      "       ('Pittsburg', 'Lansing') :     0 :    0.0 :  None : False : False : NonNegativeReals\n",
      "     ('Pittsburg', 'St. Louis') :     0 : 1700.0 :  None : False : False : NonNegativeReals\n",
      "        ('Pittsburg', 'Winsor') :     0 :    0.0 :  None : False : False : NonNegativeReals\n"
     ]
    }
   ],
   "source": [
    "model.x.pprint()"
   ]
  },
  {
   "cell_type": "markdown",
   "metadata": {},
   "source": [
    "#### Parâmetros"
   ]
  },
  {
   "cell_type": "code",
   "execution_count": null,
   "metadata": {},
   "outputs": [],
   "source": []
  }
 ],
 "metadata": {
  "kernelspec": {
   "display_name": "Python 3",
   "language": "python",
   "name": "python3"
  },
  "language_info": {
   "codemirror_mode": {
    "name": "ipython",
    "version": 3
   },
   "file_extension": ".py",
   "mimetype": "text/x-python",
   "name": "python",
   "nbconvert_exporter": "python",
   "pygments_lexer": "ipython3",
   "version": "3.11.4"
  },
  "orig_nbformat": 4
 },
 "nbformat": 4,
 "nbformat_minor": 2
}
