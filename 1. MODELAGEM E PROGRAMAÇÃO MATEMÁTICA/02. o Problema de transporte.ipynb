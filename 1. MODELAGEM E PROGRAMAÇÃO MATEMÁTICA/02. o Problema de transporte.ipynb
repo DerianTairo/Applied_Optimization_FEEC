{
 "cells": [
  {
   "cell_type": "markdown",
   "metadata": {},
   "source": [
    "### O problema de transporte\n",
    "\n",
    "![Transporte](../Figuras/1.2.png)\n",
    "\n",
    "\n",
    "\n",
    "- Custos de transporte por tonelada\n",
    "\n",
    "| |Farmington|Detroit|Lansing|Winsor| St. Louis | Fremont | Lafayette |\n",
    "|:----:|:----:|:----:|:----:|:----:|:----:|:----:|:----:|\n",
    "|Gary| 39 | 14 | 11 | 14 | 16 | 82 | 8 |\n",
    "|Cleveland| 27 | 9 | 12 | 9 | 26 | 95 | 17 |\n",
    "|Pittsburg| 24 | 14 | 17 | 13 | 28 | 99 | 20 |"
   ]
  },
  {
   "cell_type": "markdown",
   "metadata": {},
   "source": []
  }
 ],
 "metadata": {
  "language_info": {
   "name": "python"
  },
  "orig_nbformat": 4
 },
 "nbformat": 4,
 "nbformat_minor": 2
}
