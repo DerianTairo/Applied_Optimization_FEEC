{
 "cells": [
  {
   "cell_type": "markdown",
   "metadata": {},
   "source": [
    "## Exemplo 02. O problema de transporte\n",
    "\n",
    "### Custos de transporte por tonelada, produção e Demanda\n",
    "\n",
    "| SID/FAB|Farmington [$-Ton]|Detroit [$-Ton]|Lansing [$-Ton]|Winsor [$-Ton]| St. Louis [$-Ton] | Fremont [$-Ton]| Lafayette [$-Ton]| **Produção [Ton]**|\n",
    "|:----:|:----:|:----:|:----:|:----:|:----:|:----:|:----:| :----:|\n",
    "|Gary| 39 | 14 | 11 | 14 | 16 | 82 | 8 | 1400 |\n",
    "|Cleveland| 27 | 9 | 12 | 9 | 26 | 95 | 17 | 2600 |\n",
    "|Pittsburg| 24 | 14 | 17 | 13 | 28 | 99 | 20 | 2900 |\n",
    "|**Demanda [Ton]**| 900 | 1200 | 600 | 400 | 1700 | 1100 | 1100 | $ \\sum{6900}$ |\n",
    "\n",
    "![Transporte](../Figuras/1.2.png)"
   ]
  },
  {
   "cell_type": "markdown",
   "metadata": {},
   "source": [
    "## Formulação General\n",
    "\n",
    "### Conjuntos\n",
    "- $ S: \\text{Conjunto de siderúrgicas.}$\n",
    "- $ F: \\text{Conjunto de fábricas.}$\n",
    "\n",
    "### Parâmetros\n",
    "- $ c_{s,f} : \\text{Custo de tranporte por tonelada da siderúrgica s para a fábrica f.} $\n",
    "- $ p_{s} : \\text{Produção da siderúrgica en toneladas.} $\n",
    "- $ d_{f} : \\text{Demanda da fábrica f em toneladas.} $\n",
    "\n",
    "### Variáveis de decisão\n",
    "\n",
    "- $x_{s,f} : \\text{Toneladas transportadas da siderúrgica s para a fábrica f.}$ \n",
    "\n",
    "### Função objetivo \n",
    "\n",
    "- $ \\mathrm{Min} \\sum\\limits_{s \\in S} \\sum\\limits_{f \\in F} c_{s,f} \\text{ } x _{s,f}$\n",
    "\n",
    "### Restrições \n",
    "\n",
    "- $ \\sum\\limits_{f \\in F} x_{s,f} = p_{s}  \\;\\;\\;\\;\\;\\; ;\\forall s \\in S $\n",
    "- $ \\sum\\limits_{s \\in S} x_{s,f} = d_{f} \\;\\;\\;\\;\\;\\; ;\\forall f \\in F $\n",
    "- $ x_{s,f} \\geq 0 \\;\\; ;\\forall s \\in S \\text{, } f \\in F $\n",
    "\n"
   ]
  },
  {
   "cell_type": "markdown",
   "metadata": {},
   "source": [
    "## Preparação dos dados de entrada"
   ]
  },
  {
   "cell_type": "code",
   "execution_count": 137,
   "metadata": {},
   "outputs": [],
   "source": [
    "import pandas as pd"
   ]
  },
  {
   "cell_type": "code",
   "execution_count": 138,
   "metadata": {},
   "outputs": [
    {
     "name": "stdout",
     "output_type": "stream",
     "text": [
      "           Farmington  Detroit  Lansing  Winsor  St. Louis  Fremont  Lafayette\n",
      "Gary               39       14       11      14         16       82          8\n",
      "Cleveland          27        9       12       9         26       95         17\n",
      "Pittsburg          24       14       17      13         28       99         20\n"
     ]
    }
   ],
   "source": [
    "df = pd.read_excel('../Datos/1.2.xlsx','Datos', header=0, index_col=0)\n",
    "print(df)"
   ]
  },
  {
   "cell_type": "code",
   "execution_count": 139,
   "metadata": {},
   "outputs": [
    {
     "name": "stdout",
     "output_type": "stream",
     "text": [
      "           Producao\n",
      "Gary           1400\n",
      "Cleveland      2600\n",
      "Pittsburg      2900\n"
     ]
    }
   ],
   "source": [
    "df_2 = pd.read_excel('../Datos/1.2.xlsx','Prod', header=0, index_col=0)\n",
    "print(df_2)"
   ]
  },
  {
   "cell_type": "code",
   "execution_count": 140,
   "metadata": {},
   "outputs": [
    {
     "name": "stdout",
     "output_type": "stream",
     "text": [
      "            Demanda\n",
      "Farmington      900\n",
      "Detroit        1200\n",
      "Lansing         600\n",
      "Winsor          400\n",
      "St. Louis      1700\n",
      "Fremont        1100\n",
      "Lafayette      1000\n"
     ]
    }
   ],
   "source": [
    "df_3 = pd.read_excel('../Datos/1.2.xlsx','Dem', header=0, index_col=0)\n",
    "print(df_3)"
   ]
  },
  {
   "cell_type": "markdown",
   "metadata": {},
   "source": [
    "### Listas e dictionarios"
   ]
  },
  {
   "cell_type": "code",
   "execution_count": 141,
   "metadata": {},
   "outputs": [],
   "source": [
    "SID = list(df.index.map(str))\n",
    "FAB = list(df.columns.map(str))"
   ]
  },
  {
   "cell_type": "code",
   "execution_count": 142,
   "metadata": {},
   "outputs": [],
   "source": [
    "costos = {(s,f):df.at[s,f] for s in SID for f in FAB}"
   ]
  },
  {
   "cell_type": "code",
   "execution_count": 143,
   "metadata": {},
   "outputs": [],
   "source": [
    "producao = df_2.to_dict()['Producao']"
   ]
  },
  {
   "cell_type": "code",
   "execution_count": 144,
   "metadata": {},
   "outputs": [],
   "source": [
    "demanda = df_3.to_dict()['Demanda']"
   ]
  },
  {
   "cell_type": "code",
   "execution_count": 145,
   "metadata": {},
   "outputs": [
    {
     "name": "stdout",
     "output_type": "stream",
     "text": [
      "['Gary', 'Cleveland', 'Pittsburg'] ['Farmington', 'Detroit', 'Lansing', 'Winsor', 'St. Louis', 'Fremont', 'Lafayette']\n"
     ]
    }
   ],
   "source": [
    "print(SID,FAB)"
   ]
  },
  {
   "cell_type": "code",
   "execution_count": 146,
   "metadata": {},
   "outputs": [
    {
     "name": "stdout",
     "output_type": "stream",
     "text": [
      "{('Gary', 'Farmington'): 39, ('Gary', 'Detroit'): 14, ('Gary', 'Lansing'): 11, ('Gary', 'Winsor'): 14, ('Gary', 'St. Louis'): 16, ('Gary', 'Fremont'): 82, ('Gary', 'Lafayette'): 8, ('Cleveland', 'Farmington'): 27, ('Cleveland', 'Detroit'): 9, ('Cleveland', 'Lansing'): 12, ('Cleveland', 'Winsor'): 9, ('Cleveland', 'St. Louis'): 26, ('Cleveland', 'Fremont'): 95, ('Cleveland', 'Lafayette'): 17, ('Pittsburg', 'Farmington'): 24, ('Pittsburg', 'Detroit'): 14, ('Pittsburg', 'Lansing'): 17, ('Pittsburg', 'Winsor'): 13, ('Pittsburg', 'St. Louis'): 28, ('Pittsburg', 'Fremont'): 99, ('Pittsburg', 'Lafayette'): 20} {'Gary': 1400, 'Cleveland': 2600, 'Pittsburg': 2900} {'Farmington': 900, 'Detroit': 1200, 'Lansing': 600, 'Winsor': 400, 'St. Louis': 1700, 'Fremont': 1100, 'Lafayette': 1000}\n"
     ]
    }
   ],
   "source": [
    "print(costos,producao,demanda)"
   ]
  },
  {
   "cell_type": "markdown",
   "metadata": {},
   "source": [
    "## Modelo computacional no Pyomo"
   ]
  },
  {
   "cell_type": "code",
   "execution_count": 147,
   "metadata": {},
   "outputs": [],
   "source": [
    "from pyomo.environ import *\n",
    "model = ConcreteModel()"
   ]
  },
  {
   "cell_type": "markdown",
   "metadata": {},
   "source": [
    "### Conjuntos\n",
    "\n",
    "- $ S: \\text{Conjunto de siderúrgicas.}$\n",
    "- $ F: \\text{Conjunto de fábricas.}$"
   ]
  },
  {
   "cell_type": "code",
   "execution_count": 148,
   "metadata": {},
   "outputs": [],
   "source": [
    "S = (SID)\n",
    "F = (FAB)"
   ]
  },
  {
   "cell_type": "markdown",
   "metadata": {},
   "source": [
    "### Parâmetros\n",
    "\n",
    "- $ c_{s,f} : \\text{Custo de tranporte por tonelada da siderúrgica s para a fábrica f.} $\n",
    "- $ p_{s} : \\text{Produção da siderúrgica en toneladas.} $\n",
    "- $ d_{f} : \\text{Demanda da fábrica f em toneladas.} $"
   ]
  },
  {
   "cell_type": "code",
   "execution_count": 149,
   "metadata": {},
   "outputs": [],
   "source": [
    "c = (costos)\n",
    "p = (producao)\n",
    "d = (demanda)"
   ]
  },
  {
   "cell_type": "markdown",
   "metadata": {},
   "source": [
    "### Variáveis de decisão\n",
    "\n",
    "- $x_{s,f} : \\text{Toneladas transportadas da siderúrgica s para a fábrica f.}$ "
   ]
  },
  {
   "cell_type": "code",
   "execution_count": 150,
   "metadata": {},
   "outputs": [],
   "source": [
    "model.x = Var(S,F, domain = NonNegativeReals)"
   ]
  },
  {
   "cell_type": "markdown",
   "metadata": {},
   "source": [
    "### Função objetivo\n",
    "\n",
    "- $ \\mathrm{Min} \\sum\\limits_{s \\in S} \\sum\\limits_{f \\in F} c_{s,f} \\text{ } x _{s,f}$\n",
    "\n"
   ]
  },
  {
   "cell_type": "code",
   "execution_count": 151,
   "metadata": {},
   "outputs": [],
   "source": [
    "def obj_rule(m):\n",
    "    return sum(c[s,f]*m.x[s,f] for s in S for f in F)\n",
    "model.obj = Objective(rule = obj_rule, sense = minimize)"
   ]
  },
  {
   "cell_type": "markdown",
   "metadata": {},
   "source": [
    "### Restrições\n",
    "\n",
    "- $ \\sum\\limits_{f \\in F} x_{s,f} = p_{s}  \\;\\;\\;\\;\\;\\; ;\\forall s \\in S $\n",
    "- $ \\sum\\limits_{s \\in S} x_{s,f} = d_{f} \\;\\;\\;\\;\\;\\; ;\\forall f \\in F $\n",
    "- $ x_{s,f} \\geq 0 \\;\\; ;\\forall s \\in S \\text{, } f \\in F $"
   ]
  },
  {
   "cell_type": "code",
   "execution_count": 152,
   "metadata": {},
   "outputs": [],
   "source": [
    "def pro_cost_rule(m,s):\n",
    "    return sum(m.x[s,f] for f in F) == p[s]\n",
    "model.restricao_1 = Constraint(S, rule=pro_cost_rule)"
   ]
  },
  {
   "cell_type": "code",
   "execution_count": 153,
   "metadata": {},
   "outputs": [],
   "source": [
    "def dem_cost_rule(m,f):\n",
    "    return sum(m.x[s,f] for s in S) == d[f]\n",
    "model.restricao_2 = Constraint(F, rule=dem_cost_rule)"
   ]
  },
  {
   "cell_type": "markdown",
   "metadata": {},
   "source": [
    "### Solução"
   ]
  },
  {
   "cell_type": "code",
   "execution_count": 154,
   "metadata": {},
   "outputs": [],
   "source": [
    "Resultado = SolverFactory('cbc', executable='C:/Solvers/cbc.exe').solve(model)"
   ]
  },
  {
   "cell_type": "code",
   "execution_count": 155,
   "metadata": {},
   "outputs": [
    {
     "name": "stdout",
     "output_type": "stream",
     "text": [
      "x : Size=21, Index=x_index\n",
      "    Key                         : Lower : Value  : Upper : Fixed : Stale : Domain\n",
      "       ('Cleveland', 'Detroit') :     0 : 1200.0 :  None : False : False : NonNegativeReals\n",
      "    ('Cleveland', 'Farmington') :     0 :    0.0 :  None : False : False : NonNegativeReals\n",
      "       ('Cleveland', 'Fremont') :     0 :    0.0 :  None : False : False : NonNegativeReals\n",
      "     ('Cleveland', 'Lafayette') :     0 :  400.0 :  None : False : False : NonNegativeReals\n",
      "       ('Cleveland', 'Lansing') :     0 :  600.0 :  None : False : False : NonNegativeReals\n",
      "     ('Cleveland', 'St. Louis') :     0 :    0.0 :  None : False : False : NonNegativeReals\n",
      "        ('Cleveland', 'Winsor') :     0 :  400.0 :  None : False : False : NonNegativeReals\n",
      "            ('Gary', 'Detroit') :     0 :    0.0 :  None : False : False : NonNegativeReals\n",
      "         ('Gary', 'Farmington') :     0 :    0.0 :  None : False : False : NonNegativeReals\n",
      "            ('Gary', 'Fremont') :     0 : 1100.0 :  None : False : False : NonNegativeReals\n",
      "          ('Gary', 'Lafayette') :     0 :  300.0 :  None : False : False : NonNegativeReals\n",
      "            ('Gary', 'Lansing') :     0 :    0.0 :  None : False : False : NonNegativeReals\n",
      "          ('Gary', 'St. Louis') :     0 :    0.0 :  None : False : False : NonNegativeReals\n",
      "             ('Gary', 'Winsor') :     0 :    0.0 :  None : False : False : NonNegativeReals\n",
      "       ('Pittsburg', 'Detroit') :     0 :    0.0 :  None : False : False : NonNegativeReals\n",
      "    ('Pittsburg', 'Farmington') :     0 :  900.0 :  None : False : False : NonNegativeReals\n",
      "       ('Pittsburg', 'Fremont') :     0 :    0.0 :  None : False : False : NonNegativeReals\n",
      "     ('Pittsburg', 'Lafayette') :     0 :  300.0 :  None : False : False : NonNegativeReals\n",
      "       ('Pittsburg', 'Lansing') :     0 :    0.0 :  None : False : False : NonNegativeReals\n",
      "     ('Pittsburg', 'St. Louis') :     0 : 1700.0 :  None : False : False : NonNegativeReals\n",
      "        ('Pittsburg', 'Winsor') :     0 :    0.0 :  None : False : False : NonNegativeReals\n"
     ]
    }
   ],
   "source": [
    "model.x.pprint()"
   ]
  },
  {
   "cell_type": "code",
   "execution_count": null,
   "metadata": {},
   "outputs": [],
   "source": []
  }
 ],
 "metadata": {
  "kernelspec": {
   "display_name": "Python 3",
   "language": "python",
   "name": "python3"
  },
  "language_info": {
   "codemirror_mode": {
    "name": "ipython",
    "version": 3
   },
   "file_extension": ".py",
   "mimetype": "text/x-python",
   "name": "python",
   "nbconvert_exporter": "python",
   "pygments_lexer": "ipython3",
   "version": "3.11.4"
  },
  "orig_nbformat": 4
 },
 "nbformat": 4,
 "nbformat_minor": 2
}
