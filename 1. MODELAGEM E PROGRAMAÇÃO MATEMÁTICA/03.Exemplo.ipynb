{
 "cells": [
  {
   "cell_type": "markdown",
   "metadata": {},
   "source": [
    "### Exemplo 3. Localização de antenas para a leitura de medidores.\n",
    "\n",
    "- Uma companhia de serviços públicos está implantando uma nova tecnologia que permite diminuir os custos de leitura dos consumos de seus clientes.-A tecnologia utiliza um sistema que transmite via radio frequência os consumos desde os medidores de cada domicilio para antenas centrais que logo retransmitem a leitura para a oficina central da companhia para gerar as faturas.\n",
    "- Uma antena central pode ler mais de um medidor.Para assegurar uma leitura confiável usando esta nova tecnologia, é necessário que uma antena central de leitura esteja no máximo a 520 metros de um medidor.\n",
    "- A tabela apresenta a informação de um pequeno exemplo com 10 medidores já instalados e 8 possíveis lugares de localização das antenas.Qual é onúmero mínimo de antenas que se requerem, e quais são?de forma a obter a leitura de todos os medidores.\n",
    "\n",
    "![Antenas](../Figuras/1.4.png)\n",
    "\n",
    "- Qual é o plano de visita que maximiza sua satisfação esperada?"
   ]
  },
  {
   "cell_type": "markdown",
   "metadata": {},
   "source": []
  }
 ],
 "metadata": {
  "language_info": {
   "name": "python"
  },
  "orig_nbformat": 4
 },
 "nbformat": 4,
 "nbformat_minor": 2
}
