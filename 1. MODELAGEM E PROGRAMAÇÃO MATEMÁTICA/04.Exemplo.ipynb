{
 "cells": [
  {
   "cell_type": "markdown",
   "metadata": {},
   "source": [
    "### Exemplo 4. Projeto de tanque cilíndrico.\n",
    "\n",
    "-Projetar um tanque cilíndrico (definir o raio e altura do tanque)que tenha a menor superfície total possível, porém com um volume mínimo de *V* [m3].\n",
    "\n",
    "![Cilindro](Figuras\\1.4.png)\n"
   ]
  },
  {
   "cell_type": "code",
   "execution_count": null,
   "metadata": {},
   "outputs": [],
   "source": []
  }
 ],
 "metadata": {
  "language_info": {
   "name": "python"
  },
  "orig_nbformat": 4
 },
 "nbformat": 4,
 "nbformat_minor": 2
}
