{
 "cells": [
  {
   "cell_type": "code",
   "execution_count": 10,
   "metadata": {},
   "outputs": [],
   "source": [
    "Demand = {'Farmington': 900, 'Detroit': 1200, 'Lansing': 600, 'Winsor': 400, 'St. Louis': 1700, 'Fremont': 1100, 'Lafayette': 1000}\n",
    "\n",
    "Supply = {'Gary': 1400, 'Cleveland': 2600, 'Pittsburg': 2900}\n",
    "\n",
    "T = {('Gary', 'Farmington'): 39, ('Gary', 'Detroit'): 14, ('Gary', 'Lansing'): 11, ('Gary', 'Winsor'): 14, ('Gary', 'St. Louis'): 16, ('Gary', 'Fremont'): 82, ('Gary', 'Lafayette'): 8, ('Cleveland', 'Farmington'): 27, ('Cleveland', 'Detroit'): 9, ('Cleveland', 'Lansing'): 12, ('Cleveland', 'Winsor'): 9, ('Cleveland', 'St. Louis'): 26, ('Cleveland', 'Fremont'): 95, ('Cleveland', 'Lafayette'): 17, ('Pittsburg', 'Farmington'): 24, ('Pittsburg', 'Detroit'): 14, ('Pittsburg', 'Lansing'): 17, ('Pittsburg', 'Winsor'): 13, ('Pittsburg', 'St. Louis'): 28, ('Pittsburg', 'Fremont'): 99, ('Pittsburg', 'Lafayette'): 20}\n"
   ]
  },
  {
   "cell_type": "code",
   "execution_count": 11,
   "metadata": {},
   "outputs": [],
   "source": [
    "from pyomo.environ import *\n",
    "\n",
    "# Step 0: Create an instance of the model\n",
    "model = ConcreteModel()\n",
    "model.dual = Suffix(direction=Suffix.IMPORT)\n",
    "\n"
   ]
  },
  {
   "cell_type": "code",
   "execution_count": 12,
   "metadata": {},
   "outputs": [
    {
     "name": "stdout",
     "output_type": "stream",
     "text": [
      "['Farmington', 'Detroit', 'Lansing', 'Winsor', 'St. Louis', 'Fremont', 'Lafayette'] ['Gary', 'Cleveland', 'Pittsburg']\n"
     ]
    }
   ],
   "source": [
    "# Step 1: Define index sets\n",
    "CUS = list(Demand.keys())\n",
    "SRC = list(Supply.keys())\n",
    "print(CUS, SRC)"
   ]
  },
  {
   "cell_type": "code",
   "execution_count": 13,
   "metadata": {},
   "outputs": [
    {
     "name": "stdout",
     "output_type": "stream",
     "text": [
      "3 Set Declarations\n",
      "    x_index : Size=1, Index=None, Ordered=True\n",
      "        Key  : Dimen : Domain              : Size : Members\n",
      "        None :     2 : x_index_0*x_index_1 :   21 : {('Farmington', 'Gary'), ('Farmington', 'Cleveland'), ('Farmington', 'Pittsburg'), ('Detroit', 'Gary'), ('Detroit', 'Cleveland'), ('Detroit', 'Pittsburg'), ('Lansing', 'Gary'), ('Lansing', 'Cleveland'), ('Lansing', 'Pittsburg'), ('Winsor', 'Gary'), ('Winsor', 'Cleveland'), ('Winsor', 'Pittsburg'), ('St. Louis', 'Gary'), ('St. Louis', 'Cleveland'), ('St. Louis', 'Pittsburg'), ('Fremont', 'Gary'), ('Fremont', 'Cleveland'), ('Fremont', 'Pittsburg'), ('Lafayette', 'Gary'), ('Lafayette', 'Cleveland'), ('Lafayette', 'Pittsburg')}\n",
      "    x_index_0 : Size=1, Index=None, Ordered=Insertion\n",
      "        Key  : Dimen : Domain : Size : Members\n",
      "        None :     1 :    Any :    7 : {'Farmington', 'Detroit', 'Lansing', 'Winsor', 'St. Louis', 'Fremont', 'Lafayette'}\n",
      "    x_index_1 : Size=1, Index=None, Ordered=Insertion\n",
      "        Key  : Dimen : Domain : Size : Members\n",
      "        None :     1 :    Any :    3 : {'Gary', 'Cleveland', 'Pittsburg'}\n",
      "\n",
      "1 Var Declarations\n",
      "    x : Size=21, Index=x_index\n",
      "        Key                         : Lower : Value : Upper : Fixed : Stale : Domain\n",
      "           ('Detroit', 'Cleveland') :     0 :  None :  None : False :  True : NonNegativeReals\n",
      "                ('Detroit', 'Gary') :     0 :  None :  None : False :  True : NonNegativeReals\n",
      "           ('Detroit', 'Pittsburg') :     0 :  None :  None : False :  True : NonNegativeReals\n",
      "        ('Farmington', 'Cleveland') :     0 :  None :  None : False :  True : NonNegativeReals\n",
      "             ('Farmington', 'Gary') :     0 :  None :  None : False :  True : NonNegativeReals\n",
      "        ('Farmington', 'Pittsburg') :     0 :  None :  None : False :  True : NonNegativeReals\n",
      "           ('Fremont', 'Cleveland') :     0 :  None :  None : False :  True : NonNegativeReals\n",
      "                ('Fremont', 'Gary') :     0 :  None :  None : False :  True : NonNegativeReals\n",
      "           ('Fremont', 'Pittsburg') :     0 :  None :  None : False :  True : NonNegativeReals\n",
      "         ('Lafayette', 'Cleveland') :     0 :  None :  None : False :  True : NonNegativeReals\n",
      "              ('Lafayette', 'Gary') :     0 :  None :  None : False :  True : NonNegativeReals\n",
      "         ('Lafayette', 'Pittsburg') :     0 :  None :  None : False :  True : NonNegativeReals\n",
      "           ('Lansing', 'Cleveland') :     0 :  None :  None : False :  True : NonNegativeReals\n",
      "                ('Lansing', 'Gary') :     0 :  None :  None : False :  True : NonNegativeReals\n",
      "           ('Lansing', 'Pittsburg') :     0 :  None :  None : False :  True : NonNegativeReals\n",
      "         ('St. Louis', 'Cleveland') :     0 :  None :  None : False :  True : NonNegativeReals\n",
      "              ('St. Louis', 'Gary') :     0 :  None :  None : False :  True : NonNegativeReals\n",
      "         ('St. Louis', 'Pittsburg') :     0 :  None :  None : False :  True : NonNegativeReals\n",
      "            ('Winsor', 'Cleveland') :     0 :  None :  None : False :  True : NonNegativeReals\n",
      "                 ('Winsor', 'Gary') :     0 :  None :  None : False :  True : NonNegativeReals\n",
      "            ('Winsor', 'Pittsburg') :     0 :  None :  None : False :  True : NonNegativeReals\n",
      "\n",
      "1 Suffix Declarations\n",
      "    dual : Direction=Suffix.IMPORT, Datatype=Suffix.FLOAT\n",
      "        Key : Value\n",
      "\n",
      "5 Declarations: dual x_index_0 x_index_1 x_index x\n"
     ]
    }
   ],
   "source": [
    "# Step 2: Define the decision \n",
    "model.x = Var(CUS, SRC, domain = NonNegativeReals)\n",
    "model.pprint()"
   ]
  },
  {
   "cell_type": "code",
   "execution_count": 14,
   "metadata": {},
   "outputs": [
    {
     "name": "stdout",
     "output_type": "stream",
     "text": [
      "3 Set Declarations\n",
      "    x_index : Size=1, Index=None, Ordered=True\n",
      "        Key  : Dimen : Domain              : Size : Members\n",
      "        None :     2 : x_index_0*x_index_1 :   21 : {('Farmington', 'Gary'), ('Farmington', 'Cleveland'), ('Farmington', 'Pittsburg'), ('Detroit', 'Gary'), ('Detroit', 'Cleveland'), ('Detroit', 'Pittsburg'), ('Lansing', 'Gary'), ('Lansing', 'Cleveland'), ('Lansing', 'Pittsburg'), ('Winsor', 'Gary'), ('Winsor', 'Cleveland'), ('Winsor', 'Pittsburg'), ('St. Louis', 'Gary'), ('St. Louis', 'Cleveland'), ('St. Louis', 'Pittsburg'), ('Fremont', 'Gary'), ('Fremont', 'Cleveland'), ('Fremont', 'Pittsburg'), ('Lafayette', 'Gary'), ('Lafayette', 'Cleveland'), ('Lafayette', 'Pittsburg')}\n",
      "    x_index_0 : Size=1, Index=None, Ordered=Insertion\n",
      "        Key  : Dimen : Domain : Size : Members\n",
      "        None :     1 :    Any :    7 : {'Farmington', 'Detroit', 'Lansing', 'Winsor', 'St. Louis', 'Fremont', 'Lafayette'}\n",
      "    x_index_1 : Size=1, Index=None, Ordered=Insertion\n",
      "        Key  : Dimen : Domain : Size : Members\n",
      "        None :     1 :    Any :    3 : {'Gary', 'Cleveland', 'Pittsburg'}\n",
      "\n",
      "1 Var Declarations\n",
      "    x : Size=21, Index=x_index\n",
      "        Key                         : Lower : Value : Upper : Fixed : Stale : Domain\n",
      "           ('Detroit', 'Cleveland') :     0 :  None :  None : False :  True : NonNegativeReals\n",
      "                ('Detroit', 'Gary') :     0 :  None :  None : False :  True : NonNegativeReals\n",
      "           ('Detroit', 'Pittsburg') :     0 :  None :  None : False :  True : NonNegativeReals\n",
      "        ('Farmington', 'Cleveland') :     0 :  None :  None : False :  True : NonNegativeReals\n",
      "             ('Farmington', 'Gary') :     0 :  None :  None : False :  True : NonNegativeReals\n",
      "        ('Farmington', 'Pittsburg') :     0 :  None :  None : False :  True : NonNegativeReals\n",
      "           ('Fremont', 'Cleveland') :     0 :  None :  None : False :  True : NonNegativeReals\n",
      "                ('Fremont', 'Gary') :     0 :  None :  None : False :  True : NonNegativeReals\n",
      "           ('Fremont', 'Pittsburg') :     0 :  None :  None : False :  True : NonNegativeReals\n",
      "         ('Lafayette', 'Cleveland') :     0 :  None :  None : False :  True : NonNegativeReals\n",
      "              ('Lafayette', 'Gary') :     0 :  None :  None : False :  True : NonNegativeReals\n",
      "         ('Lafayette', 'Pittsburg') :     0 :  None :  None : False :  True : NonNegativeReals\n",
      "           ('Lansing', 'Cleveland') :     0 :  None :  None : False :  True : NonNegativeReals\n",
      "                ('Lansing', 'Gary') :     0 :  None :  None : False :  True : NonNegativeReals\n",
      "           ('Lansing', 'Pittsburg') :     0 :  None :  None : False :  True : NonNegativeReals\n",
      "         ('St. Louis', 'Cleveland') :     0 :  None :  None : False :  True : NonNegativeReals\n",
      "              ('St. Louis', 'Gary') :     0 :  None :  None : False :  True : NonNegativeReals\n",
      "         ('St. Louis', 'Pittsburg') :     0 :  None :  None : False :  True : NonNegativeReals\n",
      "            ('Winsor', 'Cleveland') :     0 :  None :  None : False :  True : NonNegativeReals\n",
      "                 ('Winsor', 'Gary') :     0 :  None :  None : False :  True : NonNegativeReals\n",
      "            ('Winsor', 'Pittsburg') :     0 :  None :  None : False :  True : NonNegativeReals\n",
      "\n",
      "1 Suffix Declarations\n",
      "    dual : Direction=Suffix.IMPORT, Datatype=Suffix.FLOAT\n",
      "        Key : Value\n",
      "\n",
      "5 Declarations: dual x_index_0 x_index_1 x_index x\n"
     ]
    }
   ],
   "source": [
    "# Step 3: Define Objective\n",
    "model.Objective(sense=minimize)\n",
    "def cost(m):\n",
    "    return sum([T[c,s]*model.x[c,s] for c in CUS for s in SRC])\n",
    "\n",
    "model.pprint()"
   ]
  },
  {
   "cell_type": "code",
   "execution_count": 15,
   "metadata": {},
   "outputs": [
    {
     "name": "stdout",
     "output_type": "stream",
     "text": [
      "3 Set Declarations\n",
      "    x_index : Size=1, Index=None, Ordered=True\n",
      "        Key  : Dimen : Domain              : Size : Members\n",
      "        None :     2 : x_index_0*x_index_1 :   21 : {('Farmington', 'Gary'), ('Farmington', 'Cleveland'), ('Farmington', 'Pittsburg'), ('Detroit', 'Gary'), ('Detroit', 'Cleveland'), ('Detroit', 'Pittsburg'), ('Lansing', 'Gary'), ('Lansing', 'Cleveland'), ('Lansing', 'Pittsburg'), ('Winsor', 'Gary'), ('Winsor', 'Cleveland'), ('Winsor', 'Pittsburg'), ('St. Louis', 'Gary'), ('St. Louis', 'Cleveland'), ('St. Louis', 'Pittsburg'), ('Fremont', 'Gary'), ('Fremont', 'Cleveland'), ('Fremont', 'Pittsburg'), ('Lafayette', 'Gary'), ('Lafayette', 'Cleveland'), ('Lafayette', 'Pittsburg')}\n",
      "    x_index_0 : Size=1, Index=None, Ordered=Insertion\n",
      "        Key  : Dimen : Domain : Size : Members\n",
      "        None :     1 :    Any :    7 : {'Farmington', 'Detroit', 'Lansing', 'Winsor', 'St. Louis', 'Fremont', 'Lafayette'}\n",
      "    x_index_1 : Size=1, Index=None, Ordered=Insertion\n",
      "        Key  : Dimen : Domain : Size : Members\n",
      "        None :     1 :    Any :    3 : {'Gary', 'Cleveland', 'Pittsburg'}\n",
      "\n",
      "1 Var Declarations\n",
      "    x : Size=21, Index=x_index\n",
      "        Key                         : Lower : Value : Upper : Fixed : Stale : Domain\n",
      "           ('Detroit', 'Cleveland') :     0 :  None :  None : False :  True : NonNegativeReals\n",
      "                ('Detroit', 'Gary') :     0 :  None :  None : False :  True : NonNegativeReals\n",
      "           ('Detroit', 'Pittsburg') :     0 :  None :  None : False :  True : NonNegativeReals\n",
      "        ('Farmington', 'Cleveland') :     0 :  None :  None : False :  True : NonNegativeReals\n",
      "             ('Farmington', 'Gary') :     0 :  None :  None : False :  True : NonNegativeReals\n",
      "        ('Farmington', 'Pittsburg') :     0 :  None :  None : False :  True : NonNegativeReals\n",
      "           ('Fremont', 'Cleveland') :     0 :  None :  None : False :  True : NonNegativeReals\n",
      "                ('Fremont', 'Gary') :     0 :  None :  None : False :  True : NonNegativeReals\n",
      "           ('Fremont', 'Pittsburg') :     0 :  None :  None : False :  True : NonNegativeReals\n",
      "         ('Lafayette', 'Cleveland') :     0 :  None :  None : False :  True : NonNegativeReals\n",
      "              ('Lafayette', 'Gary') :     0 :  None :  None : False :  True : NonNegativeReals\n",
      "         ('Lafayette', 'Pittsburg') :     0 :  None :  None : False :  True : NonNegativeReals\n",
      "           ('Lansing', 'Cleveland') :     0 :  None :  None : False :  True : NonNegativeReals\n",
      "                ('Lansing', 'Gary') :     0 :  None :  None : False :  True : NonNegativeReals\n",
      "           ('Lansing', 'Pittsburg') :     0 :  None :  None : False :  True : NonNegativeReals\n",
      "         ('St. Louis', 'Cleveland') :     0 :  None :  None : False :  True : NonNegativeReals\n",
      "              ('St. Louis', 'Gary') :     0 :  None :  None : False :  True : NonNegativeReals\n",
      "         ('St. Louis', 'Pittsburg') :     0 :  None :  None : False :  True : NonNegativeReals\n",
      "            ('Winsor', 'Cleveland') :     0 :  None :  None : False :  True : NonNegativeReals\n",
      "                 ('Winsor', 'Gary') :     0 :  None :  None : False :  True : NonNegativeReals\n",
      "            ('Winsor', 'Pittsburg') :     0 :  None :  None : False :  True : NonNegativeReals\n",
      "\n",
      "1 Suffix Declarations\n",
      "    dual : Direction=Suffix.IMPORT, Datatype=Suffix.FLOAT\n",
      "        Key : Value\n",
      "\n",
      "5 Declarations: dual x_index_0 x_index_1 x_index x\n"
     ]
    }
   ],
   "source": [
    "# Step 4: Constraints\n",
    "model.Constraint(SRC)\n",
    "def src(m, s):\n",
    "    return sum([model.x[c,s] for c in CUS]) <= Supply[s]\n",
    "\n",
    "model.Constraint(CUS)\n",
    "def dmd(m, c):\n",
    "    return sum([model.x[c,s] for s in SRC]) == Demand[c]\n",
    "\n",
    "model.pprint()"
   ]
  },
  {
   "cell_type": "code",
   "execution_count": 20,
   "metadata": {},
   "outputs": [],
   "source": [
    "Resultado = SolverFactory('cbc', executable='C:/Solvers/cbc.exe').solve(model)"
   ]
  },
  {
   "cell_type": "code",
   "execution_count": 23,
   "metadata": {},
   "outputs": [
    {
     "name": "stdout",
     "output_type": "stream",
     "text": [
      "3 Set Declarations\n",
      "    x_index : Size=1, Index=None, Ordered=True\n",
      "        Key  : Dimen : Domain              : Size : Members\n",
      "        None :     2 : x_index_0*x_index_1 :   21 : {('Farmington', 'Gary'), ('Farmington', 'Cleveland'), ('Farmington', 'Pittsburg'), ('Detroit', 'Gary'), ('Detroit', 'Cleveland'), ('Detroit', 'Pittsburg'), ('Lansing', 'Gary'), ('Lansing', 'Cleveland'), ('Lansing', 'Pittsburg'), ('Winsor', 'Gary'), ('Winsor', 'Cleveland'), ('Winsor', 'Pittsburg'), ('St. Louis', 'Gary'), ('St. Louis', 'Cleveland'), ('St. Louis', 'Pittsburg'), ('Fremont', 'Gary'), ('Fremont', 'Cleveland'), ('Fremont', 'Pittsburg'), ('Lafayette', 'Gary'), ('Lafayette', 'Cleveland'), ('Lafayette', 'Pittsburg')}\n",
      "    x_index_0 : Size=1, Index=None, Ordered=Insertion\n",
      "        Key  : Dimen : Domain : Size : Members\n",
      "        None :     1 :    Any :    7 : {'Farmington', 'Detroit', 'Lansing', 'Winsor', 'St. Louis', 'Fremont', 'Lafayette'}\n",
      "    x_index_1 : Size=1, Index=None, Ordered=Insertion\n",
      "        Key  : Dimen : Domain : Size : Members\n",
      "        None :     1 :    Any :    3 : {'Gary', 'Cleveland', 'Pittsburg'}\n",
      "\n",
      "1 Var Declarations\n",
      "    x : Size=21, Index=x_index\n",
      "        Key                         : Lower : Value : Upper : Fixed : Stale : Domain\n",
      "           ('Detroit', 'Cleveland') :     0 :  None :  None : False :  True : NonNegativeReals\n",
      "                ('Detroit', 'Gary') :     0 :  None :  None : False :  True : NonNegativeReals\n",
      "           ('Detroit', 'Pittsburg') :     0 :  None :  None : False :  True : NonNegativeReals\n",
      "        ('Farmington', 'Cleveland') :     0 :  None :  None : False :  True : NonNegativeReals\n",
      "             ('Farmington', 'Gary') :     0 :  None :  None : False :  True : NonNegativeReals\n",
      "        ('Farmington', 'Pittsburg') :     0 :  None :  None : False :  True : NonNegativeReals\n",
      "           ('Fremont', 'Cleveland') :     0 :  None :  None : False :  True : NonNegativeReals\n",
      "                ('Fremont', 'Gary') :     0 :  None :  None : False :  True : NonNegativeReals\n",
      "           ('Fremont', 'Pittsburg') :     0 :  None :  None : False :  True : NonNegativeReals\n",
      "         ('Lafayette', 'Cleveland') :     0 :  None :  None : False :  True : NonNegativeReals\n",
      "              ('Lafayette', 'Gary') :     0 :  None :  None : False :  True : NonNegativeReals\n",
      "         ('Lafayette', 'Pittsburg') :     0 :  None :  None : False :  True : NonNegativeReals\n",
      "           ('Lansing', 'Cleveland') :     0 :  None :  None : False :  True : NonNegativeReals\n",
      "                ('Lansing', 'Gary') :     0 :  None :  None : False :  True : NonNegativeReals\n",
      "           ('Lansing', 'Pittsburg') :     0 :  None :  None : False :  True : NonNegativeReals\n",
      "         ('St. Louis', 'Cleveland') :     0 :  None :  None : False :  True : NonNegativeReals\n",
      "              ('St. Louis', 'Gary') :     0 :  None :  None : False :  True : NonNegativeReals\n",
      "         ('St. Louis', 'Pittsburg') :     0 :  None :  None : False :  True : NonNegativeReals\n",
      "            ('Winsor', 'Cleveland') :     0 :  None :  None : False :  True : NonNegativeReals\n",
      "                 ('Winsor', 'Gary') :     0 :  None :  None : False :  True : NonNegativeReals\n",
      "            ('Winsor', 'Pittsburg') :     0 :  None :  None : False :  True : NonNegativeReals\n",
      "\n",
      "1 Suffix Declarations\n",
      "    dual : Direction=Suffix.IMPORT, Datatype=Suffix.FLOAT\n",
      "        Key : Value\n",
      "\n",
      "5 Declarations: dual x_index_0 x_index_1 x_index x\n"
     ]
    }
   ],
   "source": [
    "model.pprint()"
   ]
  },
  {
   "cell_type": "code",
   "execution_count": null,
   "metadata": {},
   "outputs": [],
   "source": []
  }
 ],
 "metadata": {
  "kernelspec": {
   "display_name": "Python 3",
   "language": "python",
   "name": "python3"
  },
  "language_info": {
   "codemirror_mode": {
    "name": "ipython",
    "version": 3
   },
   "file_extension": ".py",
   "mimetype": "text/x-python",
   "name": "python",
   "nbconvert_exporter": "python",
   "pygments_lexer": "ipython3",
   "version": "3.11.4"
  },
  "orig_nbformat": 4
 },
 "nbformat": 4,
 "nbformat_minor": 2
}
