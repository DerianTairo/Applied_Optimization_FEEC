{
 "cells": [
  {
   "cell_type": "markdown",
   "metadata": {},
   "source": [
    "### Exemplo 1. Operação de uma empresa de aço.\n",
    "\n",
    "- Uma empresa de aço fabrica dois produtos: lâminas e bobinas.\n",
    "- Cada produto tem uma velocidade de fabricação, um lucro por tonelada e uma quantidade de produção máxima por semana:\n",
    "\n",
    "\n",
    "| Produto | Toneladas por hora | Lucro por tonelada [$] | Toneladas máximas |\n",
    "| :--: | :----: | :---: | :----: |\n",
    "| Lâminas | 200 | 25 | 6000 |\n",
    "| Bobinas | 140 | 30 | 4000 |\n",
    "\n",
    "- Se 40 horas é o tempo de produção disponível para esta semana.\n",
    "- Quantas toneladas de lâminas e quantas toneladas de bobinas se devem produzir para obter o maior lucro total?"
   ]
  },
  {
   "cell_type": "markdown",
   "metadata": {},
   "source": [
    "### Formulação\n",
    "\n",
    "#### Variáveis de decisão:\n",
    "\n",
    "$x \\colon \\text{Toneladas de Lâminas}$\n",
    "\n",
    "$y \\colon \\text{Toneladas de Bobinas}$\n",
    "\n",
    "#### Função objetivo:\n",
    "\n",
    "$\\mathrm{max} \\; z = 25 x + 30 y $\n",
    "\n",
    "#### Restrições:\n",
    "\n",
    "$ x/200 + y /140 \\leq 40$\n",
    "\n",
    "$x \\leq 6000$\n",
    "\n",
    "$y \\leq 4000$"
   ]
  },
  {
   "cell_type": "markdown",
   "metadata": {},
   "source": [
    "### Modelo Computacional"
   ]
  },
  {
   "cell_type": "code",
   "execution_count": 1,
   "metadata": {},
   "outputs": [],
   "source": [
    "from pyomo.environ import *"
   ]
  },
  {
   "cell_type": "code",
   "execution_count": 2,
   "metadata": {},
   "outputs": [],
   "source": [
    "model = ConcreteModel()"
   ]
  },
  {
   "cell_type": "code",
   "execution_count": 3,
   "metadata": {},
   "outputs": [],
   "source": [
    "# Declare decision variables\n",
    "\n",
    "model.x = Var(domain=NonNegativeReals)\n",
    "model.y = Var(domain=NonNegativeReals)"
   ]
  },
  {
   "cell_type": "code",
   "execution_count": 4,
   "metadata": {},
   "outputs": [],
   "source": [
    "# Declare Objetive\n",
    "\n",
    "model.profit = Objective(expr = 25*model.x + 30*model.y, sense = maximize)"
   ]
  },
  {
   "cell_type": "code",
   "execution_count": 5,
   "metadata": {},
   "outputs": [],
   "source": [
    "# Declare constraints\n",
    "\n",
    "model.Ton_hora = Constraint(expr = model.x/200 + model.y/140 <= 40)\n",
    "model.Ton_max_laminas = Constraint(expr = model.x <= 6000)\n",
    "model.Ton_max_bobinas = Constraint(expr = model.x <= 4000)"
   ]
  },
  {
   "cell_type": "code",
   "execution_count": 6,
   "metadata": {},
   "outputs": [
    {
     "name": "stdout",
     "output_type": "stream",
     "text": [
      "x : Size=1, Index=None\n",
      "    Key  : Lower : Value  : Upper : Fixed : Stale : Domain\n",
      "    None :     0 : 4000.0 :  None : False : False : NonNegativeReals\n",
      "y : Size=1, Index=None\n",
      "    Key  : Lower : Value  : Upper : Fixed : Stale : Domain\n",
      "    None :     0 : 2800.0 :  None : False : False : NonNegativeReals\n",
      "profit : Size=1, Index=None, Active=True\n",
      "    Key  : Active : Value\n",
      "    None :   True : 184000.0\n"
     ]
    }
   ],
   "source": [
    "#Solve Problem\n",
    "\n",
    "Resultado = SolverFactory('cbc', executable='C:/Solvers/cbc.exe').solve(model)\n",
    "model.x.display()\n",
    "model.y.display()\n",
    "model.profit.display()\n"
   ]
  },
  {
   "cell_type": "code",
   "execution_count": 7,
   "metadata": {},
   "outputs": [
    {
     "name": "stdout",
     "output_type": "stream",
     "text": [
      "P = 184000.0\n",
      "x = 4000.0\n",
      "y = 2800.0\n"
     ]
    }
   ],
   "source": [
    "print(f\"P = {model.profit()}\")\n",
    "print(f\"x = {model.x()}\")\n",
    "print(f\"y = {model.y()}\")"
   ]
  },
  {
   "cell_type": "code",
   "execution_count": null,
   "metadata": {},
   "outputs": [],
   "source": []
  }
 ],
 "metadata": {
  "kernelspec": {
   "display_name": "Python 3",
   "language": "python",
   "name": "python3"
  },
  "language_info": {
   "codemirror_mode": {
    "name": "ipython",
    "version": 3
   },
   "file_extension": ".py",
   "mimetype": "text/x-python",
   "name": "python",
   "nbconvert_exporter": "python",
   "pygments_lexer": "ipython3",
   "version": "3.11.4"
  },
  "orig_nbformat": 4
 },
 "nbformat": 4,
 "nbformat_minor": 2
}
