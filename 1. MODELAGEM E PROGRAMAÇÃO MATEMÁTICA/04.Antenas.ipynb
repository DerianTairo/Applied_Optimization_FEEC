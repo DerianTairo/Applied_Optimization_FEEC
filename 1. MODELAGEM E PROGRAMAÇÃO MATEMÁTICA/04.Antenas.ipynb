{
 "cells": [
  {
   "cell_type": "markdown",
   "metadata": {},
   "source": [
    "### Exemplo 4. Localização de antenas para a leitura de medidores.\n",
    "\n",
    "- Uma companhia de serviços públicos está implantando uma nova tecnologia que permite diminuir os custos de leitura dos consumos de seus clientes.-A tecnologia utiliza um sistema que transmite via radio frequência os consumos desde os medidores de cada domicilio para antenas centrais que logo retransmitem a leitura para a oficina central da companhia para gerar as faturas.\n",
    "- Uma antena central pode ler mais de um medidor.Para assegurar uma leitura confiável usando esta nova tecnologia, é necessário que uma antena central de leitura esteja no máximo a 520 metros de um medidor.\n",
    "- A tabela apresenta a informação de um pequeno exemplo com 10 medidores já instalados e 8 possíveis lugares de localização das antenas.Qual é onúmero mínimo de antenas que se requerem, e quais são? de forma a obter a leitura de todos os medidores.\n",
    "\n",
    "\n",
    "\n",
    "| Medidores | L-1 | L_2 | L_3 | L_4 | L_5 | L_6 | L_7 | L_8 |\n",
    "| :-- | :----: | :---: | :----: | :---: | :----: | :---: | :----: | :---: |\n",
    "| Med_1 | 172 | 629 | 629 | 614 | 628 | 231 | 542 | 451 | \n",
    "| Med_2 | 247 | 469 | 629 | 538 | 794 | 727 | 495 | 640 | \n",
    "| Med_3 | 1   | 82  | 671 | 633 | 55  | 709 | 583 | 720 | \n",
    "| Med_4 | 744 | 639 | 698 | 513 | 629 | 418 | 280 | 252 | \n",
    "| Med_5 | 636 | 699 | 3   | 560 | 506 | 762 | 165 | 635 | \n",
    "| Med_6 | 695 | 675 | 438 | 707 | 60  | 748 | 511 | 698 | \n",
    "| Med_7 | 568 | 646 | 361 | 245 | 743 | 89  | 592 | 512 | \n",
    "| Med_8 | 519 | 769 | 600 | 615 | 458 | 613 | 663 | 23  | \n",
    "| Med_9 | 579 | 170 | 597 | 172 | 623 | 405 | 319 | 506 | \n",
    "| Med_10| 545 | 529 | 765 | 219 | 526 | 569 | 506 | 512 | \n",
    "\n"
   ]
  },
  {
   "cell_type": "markdown",
   "metadata": {},
   "source": []
  },
  {
   "cell_type": "code",
   "execution_count": null,
   "metadata": {},
   "outputs": [],
   "source": []
  }
 ],
 "metadata": {
  "language_info": {
   "name": "python"
  },
  "orig_nbformat": 4
 },
 "nbformat": 4,
 "nbformat_minor": 2
}
