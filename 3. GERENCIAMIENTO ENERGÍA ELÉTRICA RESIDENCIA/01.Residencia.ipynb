{
 "cells": [
  {
   "cell_type": "markdown",
   "metadata": {},
   "source": [
    "## Residencia\n",
    "\n",
    "- Considere uma residência com um perfil de demanda total horaria conhecida ou prevista ao longo de 24 horas ($ P_{t}^D, \\forall t = 1 \\dots 24 $), que tem que ser obrigatoriamente atendida, e energizada pela rede de distribuição ($ P_{t}^S, \\forall t = 1 \\dots 24 $).\n",
    "\n",
    "![Residencia](../Figuras/3.1.png)\n",
    "\n",
    "- Assuma uma estrutura tarifaria ($ C_{t}^OS, \\forall t = 1 \\dots 24$) de três níveis para a compra de energia da rede de distribuição, em R$/kWh: \n",
    "\n",
    "|t | $ R\\$/kWh$ |\n",
    "|:----:|:----:|\n",
    "|00:00h - 16:59h | 0.22419 |\n",
    "|17:00h - 17:59h | 0.32629 |\n",
    "|18:00h - 20:59h | 0.51792 |\n",
    "|21:00h - 21:59h | 0.32629 |\n",
    "|22:00h - 24:00h | 0.22419 |\n",
    "\n",
    "- Qual é a potência ativa fornecida pela rede de distribuição $ P_{t}^S$ para cada instante de tempo?\n",
    "\n"
   ]
  },
  {
   "cell_type": "code",
   "execution_count": 4,
   "metadata": {},
   "outputs": [
    {
     "name": "stdout",
     "output_type": "stream",
     "text": [
      "     t      Pd        c\n",
      "0    1  1.9317  0.22419\n",
      "1    2  1.6090  0.22419\n",
      "2    3  1.4079  0.22419\n",
      "3    4  1.3281  0.22419\n",
      "4    5  1.3834  0.22419\n",
      "5    6  1.6413  0.22419\n",
      "6    7  1.9395  0.22419\n",
      "7    8  1.7383  0.22419\n",
      "8    9  1.8341  0.22419\n",
      "9   10  1.8354  0.22419\n",
      "10  11  1.9312  0.22419\n",
      "11  12  2.3645  0.22419\n",
      "12  13  2.2038  0.22419\n",
      "13  14  2.2997  0.22419\n",
      "14  15  2.1659  0.22419\n",
      "15  16  2.5046  0.22419\n",
      "16  17  2.7490  0.32629\n",
      "17  18  4.0597  0.51792\n",
      "18  19  4.9924  0.51792\n",
      "19  20  5.4257  0.51792\n",
      "20  21  5.0491  0.32629\n",
      "21  22  4.4294  0.22419\n",
      "22  23  3.7692  0.22419\n",
      "23  24  2.7716  0.22419\n"
     ]
    }
   ],
   "source": [
    "import pandas as pd\n",
    "df = pd.read_csv('../Datos/residencia.csv')\n",
    "#Pd = df.to_dict()\n",
    "#Tempo = list(df.index.map(str))\n",
    "#PD = list(df.columns.map(str))\n",
    "#Demanda = {(t,Pdem):df.at[t,Pdem] for t in Tempo for Pdem in PD}\n",
    "print(df)"
   ]
  },
  {
   "cell_type": "code",
   "execution_count": 12,
   "metadata": {},
   "outputs": [],
   "source": [
    "from dash import Dash, html, dash_table, dcc\n",
    "import plotly.express as px"
   ]
  },
  {
   "cell_type": "code",
   "execution_count": 13,
   "metadata": {},
   "outputs": [
    {
     "data": {
      "text/html": [
       "\n",
       "        <iframe\n",
       "            width=\"100%\"\n",
       "            height=\"650\"\n",
       "            src=\"http://127.0.0.1:8050/\"\n",
       "            frameborder=\"0\"\n",
       "            allowfullscreen\n",
       "            \n",
       "        ></iframe>\n",
       "        "
      ],
      "text/plain": [
       "<IPython.lib.display.IFrame at 0x21ae8baf8d0>"
      ]
     },
     "metadata": {},
     "output_type": "display_data"
    }
   ],
   "source": [
    "app = Dash(__name__)\n",
    "app.layout = html.Div([\n",
    "    html.Div(children='My primer Dashboard'),\n",
    "    dash_table.DataTable(data=df.to_dict('records'), page_size=8),\n",
    "    dcc.Graph(figure=px.histogram(df, x='t', y='c', histfunc='avg'))\n",
    "])\n",
    "\n",
    "if __name__ == '__main__':\n",
    "    app.run(debug=True)"
   ]
  },
  {
   "cell_type": "code",
   "execution_count": null,
   "metadata": {},
   "outputs": [
    {
     "name": "stdout",
     "output_type": "stream",
     "text": [
      "     t      Pd        c\n",
      "0    1  1.9317  0.22419\n",
      "1    2  1.6090  0.22419\n",
      "2    3  1.4079  0.22419\n",
      "3    4  1.3281  0.22419\n",
      "4    5  1.3834  0.22419\n",
      "5    6  1.6413  0.22419\n",
      "6    7  1.9395  0.22419\n",
      "7    8  1.7383  0.22419\n",
      "8    9  1.8341  0.22419\n",
      "9   10  1.8354  0.22419\n",
      "10  11  1.9312  0.22419\n",
      "11  12  2.3645  0.22419\n",
      "12  13  2.2038  0.22419\n",
      "13  14  2.2997  0.22419\n",
      "14  15  2.1659  0.22419\n",
      "15  16  2.5046  0.22419\n",
      "16  17  2.7490  0.32629\n",
      "17  18  4.0597  0.51792\n",
      "18  19  4.9924  0.51792\n",
      "19  20  5.4257  0.51792\n",
      "20  21  5.0491  0.32629\n",
      "21  22  4.4294  0.22419\n",
      "22  23  3.7692  0.22419\n",
      "23  24  2.7716  0.22419\n"
     ]
    }
   ],
   "source": [
    "print(df)"
   ]
  },
  {
   "cell_type": "code",
   "execution_count": null,
   "metadata": {},
   "outputs": [],
   "source": []
  }
 ],
 "metadata": {
  "kernelspec": {
   "display_name": "Python 3",
   "language": "python",
   "name": "python3"
  },
  "language_info": {
   "codemirror_mode": {
    "name": "ipython",
    "version": 3
   },
   "file_extension": ".py",
   "mimetype": "text/x-python",
   "name": "python",
   "nbconvert_exporter": "python",
   "pygments_lexer": "ipython3",
   "version": "3.11.4"
  },
  "orig_nbformat": 4
 },
 "nbformat": 4,
 "nbformat_minor": 2
}
